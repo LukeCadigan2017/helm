{
 "cells": [
  {
   "cell_type": "code",
   "execution_count": 1,
   "metadata": {},
   "outputs": [
    {
     "name": "stderr",
     "output_type": "stream",
     "text": [
      "/opt/miniconda3/envs/crfm-helm2/lib/python3.9/site-packages/tqdm/auto.py:21: TqdmWarning: IProgress not found. Please update jupyter and ipywidgets. See https://ipywidgets.readthedocs.io/en/stable/user_install.html\n",
      "  from .autonotebook import tqdm as notebook_tqdm\n",
      "PyTorch version 2.6.0 available.\n"
     ]
    }
   ],
   "source": [
    "import sys\n",
    "import json\n",
    "import argparse\n",
    "\n",
    "parser = argparse.ArgumentParser(\"simple_example\")\n",
    "from helm.benchmark.runner import InstanceGenerations,GenerationSummary\n",
    "from process_gens import  get_gen_summary_from_path, assert_dir_exists\n",
    "\n",
    "from PostMetric import calculate_post_metric, get_post_metrics\n",
    "from helm.common.general import ensure_directory_exists, write, asdict_without_nones\n",
    "import os.path\n",
    "from comet import download_model, load_from_checkpoint\n",
    "from helm.common.gpu_utils import get_torch_device_name"
   ]
  },
  {
   "cell_type": "code",
   "execution_count": 2,
   "metadata": {},
   "outputs": [],
   "source": [
    "\n",
    "run_path=\"snellius_copies/helm_output/sample_100_eval_1000/wmt_14_language_pair_de_en_/meta_llama_Llama_3.1_8B_Instruct/1_beams/runs/sample_100_eval_1000\"\n",
    "gen_sum_raw_path=f\"{run_path}/generation_summary.json\"\n",
    "gen_sum_metric_path=f\"{run_path}/generation_summary_metrics.json\"\n",
    "input_path = gen_sum_metric_path if os.path.isfile(gen_sum_metric_path) else gen_sum_raw_path\n",
    "generation_summary=get_gen_summary_from_path(input_path)\n",
    "            \n"
   ]
  },
  {
   "cell_type": "code",
   "execution_count": 3,
   "metadata": {},
   "outputs": [],
   "source": [
    "for instance_generation in generation_summary.instance_generations:\n",
    "    for generated_output in instance_generation.examples:\n",
    "        for token in generated_output.tokens:"
   ]
  }
 ],
 "metadata": {
  "kernelspec": {
   "display_name": "crfm-helm2",
   "language": "python",
   "name": "python3"
  },
  "language_info": {
   "codemirror_mode": {
    "name": "ipython",
    "version": 3
   },
   "file_extension": ".py",
   "mimetype": "text/x-python",
   "name": "python",
   "nbconvert_exporter": "python",
   "pygments_lexer": "ipython3",
   "version": "3.9.18"
  }
 },
 "nbformat": 4,
 "nbformat_minor": 2
}
