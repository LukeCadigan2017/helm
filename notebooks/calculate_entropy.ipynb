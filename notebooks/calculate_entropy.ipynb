{
 "cells": [
  {
   "cell_type": "code",
   "execution_count": null,
   "metadata": {},
   "outputs": [],
   "source": []
  },
  {
   "cell_type": "code",
   "execution_count": null,
   "metadata": {},
   "outputs": [
    {
     "name": "stdout",
     "output_type": "stream",
     "text": [
      "\n",
      "\n",
      "      \n",
      "LOCAL_FILE=snellius_copies/helm_output/fairseq/wmt_14_language_pair_de_en_/fairseq_sparsemax/1_beams/runs/fairseq/generation_summary.json\n",
      "REMOTE_DIR_EXT=helm/helm_output/fairseq/wmt_14_language_pair_de_en_/fairseq_sparsemax/1_beams/runs/fairseq\n",
      "echo scp $LOCAL_FILE lcadigan@snellius.surf.nl:~/$REMOTE_DIR_EXT\n",
      "scp $LOCAL_FILE lcadigan@snellius.surf.nl:~/$REMOTE_DIR_EXT\n",
      "\n"
     ]
    }
   ],
   "source": [
    "print(f\"\"\"\n",
    "\n",
    "      \n",
    "LOCAL_FILE={output_file_name}\n",
    "REMOTE_DIR_EXT=helm/helm_output/fairseq/wmt_14_language_pair_de_en_/fairseq_{activation}/1_beams/runs/fairseq\n",
    "echo scp $LOCAL_FILE lcadigan@snellius.surf.nl:~/$REMOTE_DIR_EXT\n",
    "scp $LOCAL_FILE lcadigan@snellius.surf.nl:~/$REMOTE_DIR_EXT\n",
    "\"\"\")\n",
    "\n",
    "\n",
    "\n",
    "\n"
   ]
  }
 ],
 "metadata": {
  "language_info": {
   "name": "python"
  }
 },
 "nbformat": 4,
 "nbformat_minor": 2
}
