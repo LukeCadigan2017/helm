{
 "cells": [
  {
   "cell_type": "code",
   "execution_count": 1,
   "metadata": {},
   "outputs": [
    {
     "name": "stderr",
     "output_type": "stream",
     "text": [
      "/opt/miniconda3/envs/crfm-helm2/lib/python3.9/site-packages/tqdm/auto.py:21: TqdmWarning: IProgress not found. Please update jupyter and ipywidgets. See https://ipywidgets.readthedocs.io/en/stable/user_install.html\n",
      "  from .autonotebook import tqdm as notebook_tqdm\n",
      "PyTorch version 2.6.0 available.\n"
     ]
    },
    {
     "name": "stdout",
     "output_type": "stream",
     "text": [
      "Init: process_gens_mode ['current_test']\n",
      "calculate_gen_summary_dict\n",
      "get_metrics_dict\n"
     ]
    },
    {
     "name": "stderr",
     "output_type": "stream",
     "text": [
      "/opt/miniconda3/envs/crfm-helm2/lib/python3.9/site-packages/nltk/translate/bleu_score.py:577: UserWarning: \n",
      "The hypothesis contains 0 counts of 4-gram overlaps.\n",
      "Therefore the BLEU score evaluates to 0, independently of\n",
      "how many N-gram overlaps of lower order it contains.\n",
      "Consider using lower n-gram order or use SmoothingFunction()\n",
      "  warnings.warn(_msg)\n",
      "/opt/miniconda3/envs/crfm-helm2/lib/python3.9/site-packages/nltk/translate/bleu_score.py:577: UserWarning: \n",
      "The hypothesis contains 0 counts of 2-gram overlaps.\n",
      "Therefore the BLEU score evaluates to 0, independently of\n",
      "how many N-gram overlaps of lower order it contains.\n",
      "Consider using lower n-gram order or use SmoothingFunction()\n",
      "  warnings.warn(_msg)\n",
      "/opt/miniconda3/envs/crfm-helm2/lib/python3.9/site-packages/nltk/translate/bleu_score.py:577: UserWarning: \n",
      "The hypothesis contains 0 counts of 3-gram overlaps.\n",
      "Therefore the BLEU score evaluates to 0, independently of\n",
      "how many N-gram overlaps of lower order it contains.\n",
      "Consider using lower n-gram order or use SmoothingFunction()\n",
      "  warnings.warn(_msg)\n"
     ]
    },
    {
     "name": "stdout",
     "output_type": "stream",
     "text": [
      "Index(['example_comet', 'beam_num', 'task_name', 'model', 'example_idx',\n",
      "       'suite', 'instanceID', 'text', 'completion_length', 'output_logprob',\n",
      "       'isCompletion', 'BLEU_1', 'BLEU_4'],\n",
      "      dtype='object')\n",
      "Num examples: 50000\n",
      "Num completions: 500\n"
     ]
    }
   ],
   "source": [
    "\n",
    "\n",
    "import pandas as pd\n",
    "from helm.benchmark.runner import InstanceGenerations,GenerationSummary\n",
    "from typing import Any, List\n",
    "import json\n",
    "from helm.common.request import (GeneratedOutput, Token)\n",
    "\n",
    "import PostMetric\n",
    "import pandas as pd\n",
    "\n",
    "from helm.benchmark.metrics.statistic import Stat\n",
    "from typing import Dict, Optional\n",
    "\n",
    "from helm.benchmark.augmentations.perturbation_description import (\n",
    "    PerturbationDescription)\n",
    "from dataclasses import dataclass\n",
    "from process_gens import *\n",
    "from process_gen_utils import *\n",
    "\n",
    "\n",
    "\n",
    "processGens=ProcessGens()\n",
    "\n",
    "\n",
    "process_gen_modes=[\"current_test\"]\n",
    "do_norm_analysis=True\n",
    "processGens.init_with_mode(process_gen_modes)\n",
    "root_folder, num_beams_list, models, custom_metrics, task_names, suite_name, instance_metrics, compare_metric = processGens.get_params()\n",
    "compare_metric=\"BLEU_4\"\n",
    "examples_df, completions_df=get_dfs(processGens)\n",
    "\n",
    "\n",
    "dfs_by_model={}\n",
    "\n",
    "for model_name in examples_df['model'].unique():\n",
    "    filtered_df = examples_df[examples_df[\"model\"]==model_name]\n",
    "    filtered_df[\"rank\"]=100-filtered_df[\"example_idx\"]\n",
    "    dfs_by_model[model_name]=filtered_df\n",
    "\n",
    "all_dfs_by_model=dfs_by_model\n"
   ]
  },
  {
   "cell_type": "code",
   "execution_count": 2,
   "metadata": {},
   "outputs": [
    {
     "name": "stdout",
     "output_type": "stream",
     "text": [
      "\t root_folder: snellius_copies/helm_output \n",
      " \t num_beams_list [1] \n",
      " \t models: ['meta-llama/Llama-3.1-8B'] \n",
      " \t custom_metrics['BLEU_1', 'BLEU_4']\n",
      " \t task_names ['wmt_14_language_pair_de_en_'] \n",
      " \t suite_name sample_100_eval_500_first_inst_0 \n",
      " \t instance_metrics ['comet']\n",
      "   example_comet  beam_num                    task_name  \\\n",
      "0       0.267811         1  wmt_14_language_pair_de_en_   \n",
      "1       0.267811         1  wmt_14_language_pair_de_en_   \n",
      "\n",
      "                     model  example_idx                             suite  \\\n",
      "0  meta-llama/Llama-3.1-8B            0  sample_100_eval_500_first_inst_0   \n",
      "1  meta-llama/Llama-3.1-8B            1  sample_100_eval_500_first_inst_0   \n",
      "\n",
      "   instanceID text  completion_length  output_logprob isCompletion  BLEU_1  \\\n",
      "0           0                       0       -4.441537         True     0.0   \n",
      "1           0                       0       -6.211792         None     0.0   \n",
      "\n",
      "   BLEU_4  \n",
      "0     0.0  \n",
      "1     0.0  \n",
      "num examples 50000\n",
      "num_completions 500\n",
      "compare_metric mean:  BLEU_4    0.060586\n",
      "dtype: float64\n"
     ]
    }
   ],
   "source": [
    "print(f\"\\t root_folder: {root_folder} \\n \\t num_beams_list {num_beams_list} \\n \\t models: {models} \\n \\t custom_metrics{[metric.name() for metric in custom_metrics]}\"+ \n",
    "    f\"\\n \\t task_names {task_names} \\n \\t suite_name {suite_name} \\n \\t instance_metrics {instance_metrics}\")\n",
    "# instanceGeneration=get_first(processGens.first_run_instances)\n",
    "print(examples_df.head(2))\n",
    "print(\"num examples\" ,len(examples_df))\n",
    "print(\"num_completions\", len(completions_df))\n",
    "print(f\"compare_metric mean: \",examples_df[[compare_metric]].mean())\n",
    "#current belief: for each run_folder combo, there will be 100 instances and 100 examples per instance\n",
    "\n",
    "max_example_idx = examples_df[\"example_idx\"].max()\n",
    "plots_wide=1\n",
    "num_models=len(dfs_by_model.keys())\n",
    "plots_tall=math.ceil(num_models/plots_wide)\n",
    "\n",
    "df=next(iter(dfs_by_model.values()))"
   ]
  },
  {
   "cell_type": "code",
   "execution_count": 3,
   "metadata": {},
   "outputs": [
    {
     "data": {
      "text/plain": [
       "Text(0, 0.5, 'example_comet')"
      ]
     },
     "execution_count": 3,
     "metadata": {},
     "output_type": "execute_result"
    },
    {
     "data": {
      "image/png": "[encoded data removed]",
      "text/plain": [
       "<Figure size 640x480 with 1 Axes>"
      ]
     },
     "metadata": {},
     "output_type": "display_data"
    }
   ],
   "source": [
    "def plot_grouped(df, xlabel, ylabel, groupby='example_idx', title=None, trend_line=\"None\",ax=None, nbins=20, error_bar=True):\n",
    "    if(ax is None):\n",
    "        _, ax = plt.subplots()\n",
    "    warnings.simplefilter(action='ignore', category=FutureWarning)\n",
    "    if(groupby==\"bins\"):\n",
    "        df[\"bins\"]=pd.qcut(df[xlabel],nbins)\n",
    "    \n",
    "    grouped = df.groupby(groupby)[[xlabel, ylabel]].agg(['mean', 'count', 'std'])\n",
    "    \n",
    "    x = grouped[(xlabel, 'mean')]\n",
    "    y = grouped[(ylabel, 'mean')]\n",
    "    yerr = grouped[(ylabel, 'std')]\n",
    "\n",
    "    yerr=[]\n",
    "    for i in grouped.index:\n",
    "        # print(grouped.loc[i][ylabel])\n",
    "        _, c, s = grouped.loc[i][ylabel]\n",
    "        if c>0:\n",
    "            yerr.append(1.96*s/math.sqrt(c))\n",
    "\n",
    "    # Plot with error bars (standard deviation)\n",
    "    if error_bar:\n",
    "        ax.errorbar(x, y, yerr=yerr, fmt='o', ecolor='gray', capsize=3, label='Data with std dev')\n",
    "    else:\n",
    "        ax.scatter(x,y)\n",
    "\n",
    "    # plt.scatter(x,y)\n",
    "    ax.set_xlabel(xlabel)\n",
    "    ax.set_ylabel(ylabel)\n",
    "\n",
    "    if(title):\n",
    "        ax.set_title(title)\n",
    "\n",
    "    if(trend_line==\"None\"):\n",
    "        pass\n",
    "    elif(trend_line==\"linear\"):\n",
    "        try:\n",
    "            ax.plot(np.unique(x), np.poly1d(np.polyfit(x, y, 1))(np.unique(x)))\n",
    "        except:\n",
    "            pass\n",
    "    else: \n",
    "        raise Exception(\"Plot_keys errors: did not recognize trend_line type\")\n",
    "        \n",
    "    return ax, grouped\n",
    "\n",
    "\n",
    "# df = df.head(10)\n",
    "compare_metric=\"example_comet\"\n",
    "fig, ax = plt.subplots()\n",
    "suptitle=f\"Outputs grouped by rank within sentence\"\n",
    "\n",
    "top_df = df[df['example_idx']<85]\n",
    "ax, grouped =plot_grouped(df=top_df, xlabel=\"output_logprob\",groupby='example_idx', ylabel=compare_metric, title=suptitle, ax=ax, error_bar=False)\n",
    "ax.set_xlabel(\"Log-Probability\")\n",
    "ax.set_ylabel(compare_metric)\n",
    "\n"
   ]
  }
 ],
 "metadata": {
  "kernelspec": {
   "display_name": "crfm-helm2",
   "language": "python",
   "name": "python3"
  },
  "language_info": {
   "codemirror_mode": {
    "name": "ipython",
    "version": 3
   },
   "file_extension": ".py",
   "mimetype": "text/x-python",
   "name": "python",
   "nbconvert_exporter": "python",
   "pygments_lexer": "ipython3",
   "version": "3.9.18"
  }
 },
 "nbformat": 4,
 "nbformat_minor": 2
}
