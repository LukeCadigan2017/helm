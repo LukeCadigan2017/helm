{
 "cells": [
  {
   "cell_type": "code",
   "execution_count": 1,
   "metadata": {},
   "outputs": [
    {
     "name": "stderr",
     "output_type": "stream",
     "text": [
      "/opt/miniconda3/envs/crfm-helm2/lib/python3.9/site-packages/tqdm/auto.py:21: TqdmWarning: IProgress not found. Please update jupyter and ipywidgets. See https://ipywidgets.readthedocs.io/en/stable/user_install.html\n",
      "  from .autonotebook import tqdm as notebook_tqdm\n",
      "PyTorch version 2.6.0 available.\n"
     ]
    },
    {
     "name": "stdout",
     "output_type": "stream",
     "text": [
      "Init: process_gens_mode ['fairseq_softmax']\n",
      "calculate_gen_summary_dict\n",
      "get_metrics_dict\n"
     ]
    },
    {
     "name": "stderr",
     "output_type": "stream",
     "text": [
      "/opt/miniconda3/envs/crfm-helm2/lib/python3.9/site-packages/nltk/translate/bleu_score.py:577: UserWarning: \n",
      "The hypothesis contains 0 counts of 4-gram overlaps.\n",
      "Therefore the BLEU score evaluates to 0, independently of\n",
      "how many N-gram overlaps of lower order it contains.\n",
      "Consider using lower n-gram order or use SmoothingFunction()\n",
      "  warnings.warn(_msg)\n",
      "/opt/miniconda3/envs/crfm-helm2/lib/python3.9/site-packages/nltk/translate/bleu_score.py:577: UserWarning: \n",
      "The hypothesis contains 0 counts of 3-gram overlaps.\n",
      "Therefore the BLEU score evaluates to 0, independently of\n",
      "how many N-gram overlaps of lower order it contains.\n",
      "Consider using lower n-gram order or use SmoothingFunction()\n",
      "  warnings.warn(_msg)\n",
      "/opt/miniconda3/envs/crfm-helm2/lib/python3.9/site-packages/nltk/translate/bleu_score.py:577: UserWarning: \n",
      "The hypothesis contains 0 counts of 2-gram overlaps.\n",
      "Therefore the BLEU score evaluates to 0, independently of\n",
      "how many N-gram overlaps of lower order it contains.\n",
      "Consider using lower n-gram order or use SmoothingFunction()\n",
      "  warnings.warn(_msg)\n"
     ]
    },
    {
     "name": "stdout",
     "output_type": "stream",
     "text": [
      "Index(['beam_num', 'task_name', 'model', 'example_idx', 'suite', 'instanceID',\n",
      "       'text', 'completion_length', 'output_logprob', 'isCompletion', 'BLEU_1',\n",
      "       'BLEU_4'],\n",
      "      dtype='object')\n",
      "Num examples: 20000\n",
      "Num completions: 200\n"
     ]
    }
   ],
   "source": [
    "\n",
    "\n",
    "import pandas as pd\n",
    "from helm.benchmark.runner import InstanceGenerations,GenerationSummary\n",
    "from typing import Any, List\n",
    "import json\n",
    "from helm.common.request import (GeneratedOutput, Token)\n",
    "\n",
    "import PostMetric\n",
    "import pandas as pd\n",
    "\n",
    "from helm.benchmark.metrics.statistic import Stat\n",
    "from typing import Dict, Optional\n",
    "\n",
    "from helm.benchmark.augmentations.perturbation_description import (\n",
    "    PerturbationDescription)\n",
    "from dataclasses import dataclass\n",
    "from process_gens import *\n",
    "from process_gen_utils import *\n",
    "\n",
    "\n",
    "\n",
    "processGens=ProcessGens()\n",
    "\n",
    "#wmt modes\n",
    "# process_gen_mode=\"wmt_single\"\n",
    "# process_gen_mode=\"wmt_samples\"\n",
    "# process_gen_mode=\"wmt_single\"\n",
    "# process_gen_modes=[\"wmt_samples0\", \"wmt_samples1\", \"wmt_samples2_1\",\"wmt_samples2_2\"]\n",
    "\n",
    "# process_gen_mode=\"wmt_sample_100\"\n",
    "# process_gen_mode=\"wmt_sample_50\"\n",
    "    # wmt_sample_100\n",
    "    \n",
    "# compare_metric=\"example_comet\"\n",
    "# compare_metric=\"BLEU_4\"\n",
    "\n",
    "\n",
    "# process_gen_modes=[\"gsm_samples1\",\"gsm_samples2\",\"gsm_samples3\"]\n",
    "process_gen_modes=[\"fairseq_softmax\"]\n",
    "\n",
    "\n",
    "\n",
    "do_norm_analysis=True\n",
    "processGens.init_with_mode(process_gen_modes)\n",
    "root_folder, num_beams_list, models, custom_metrics, task_names, suite_name, instance_metrics, compare_metric = processGens.get_params()\n",
    "compare_metric=\"BLEU_4\"\n",
    "examples_df, completions_df=get_dfs(processGens)\n",
    "\n",
    "\n",
    "dfs_by_model={}\n",
    "\n",
    "for model_name in examples_df['model'].unique():\n",
    "    filtered_df = examples_df[examples_df[\"model\"]==model_name]\n",
    "    dfs_by_model[model_name]=filtered_df\n",
    "\n",
    "all_dfs_by_model=dfs_by_model\n",
    "# if(len(models)>1):\n",
    "    # all_dfs_by_model[\"all_models\"]=examples_df"
   ]
  },
  {
   "cell_type": "code",
   "execution_count": 2,
   "metadata": {},
   "outputs": [
    {
     "name": "stdout",
     "output_type": "stream",
     "text": [
      "\t root_folder: snellius_copies/helm_output \n",
      " \t num_beams_list [1] \n",
      " \t models: ['fairseq_softmax'] \n",
      " \t custom_metrics['BLEU_1', 'BLEU_4']\n",
      " \t task_names ['wmt_14_language_pair_de_en_'] \n",
      " \t suite_name fairseq \n",
      " \t instance_metrics ['comet']\n",
      "   beam_num                    task_name            model  example_idx  \\\n",
      "0         1  wmt_14_language_pair_de_en_  fairseq_softmax            0   \n",
      "1         1  wmt_14_language_pair_de_en_  fairseq_softmax            1   \n",
      "\n",
      "     suite  instanceID             text  completion_length  \\\n",
      "0  fairseq           0  you need time .                 15   \n",
      "1  fairseq           0  you need time .                 15   \n",
      "\n",
      "        output_logprob isCompletion  BLEU_1  BLEU_4  \n",
      "0  -0.3601841926574707         True     1.0     1.0  \n",
      "1  -0.3601841926574707         None     1.0     1.0  \n",
      "num examples 20000\n",
      "num_completions 200\n",
      "compare_metric mean:  BLEU_4    0.11675\n",
      "dtype: float64\n"
     ]
    }
   ],
   "source": [
    "print(f\"\\t root_folder: {root_folder} \\n \\t num_beams_list {num_beams_list} \\n \\t models: {models} \\n \\t custom_metrics{[metric.name() for metric in custom_metrics]}\"+ \n",
    "    f\"\\n \\t task_names {task_names} \\n \\t suite_name {suite_name} \\n \\t instance_metrics {instance_metrics}\")\n",
    "# instanceGeneration=get_first(processGens.first_run_instances)\n",
    "print(examples_df.head(2))\n",
    "print(\"num examples\" ,len(examples_df))\n",
    "print(\"num_completions\", len(completions_df))\n",
    "print(f\"compare_metric mean: \",examples_df[[compare_metric]].mean())\n",
    "#current belief: for each run_folder combo, there will be 100 instances and 100 examples per instance"
   ]
  },
  {
   "cell_type": "code",
   "execution_count": 22,
   "metadata": {},
   "outputs": [
    {
     "name": "stdout",
     "output_type": "stream",
     "text": [
      "Index(['beam_num', 'task_name', 'model', 'example_idx', 'suite', 'instanceID',\n",
      "       'text', 'completion_length', 'output_logprob', 'isCompletion', 'BLEU_1',\n",
      "       'BLEU_4'],\n",
      "      dtype='object')\n",
      "fairseq_softmax\n",
      "          output_logprob         BLEU_4\n",
      "0    -0.3601841926574707   1.000000e+00\n",
      "1    -0.3601841926574707   1.000000e+00\n",
      "2    -0.3601842224597931   1.000000e+00\n",
      "3    -0.3601842224597931   1.000000e+00\n",
      "4    -0.3601842224597931   1.000000e+00\n",
      "..                   ...            ...\n",
      "195   -5.668101787567139  2.225074e-308\n",
      "196   -6.216953277587891  2.225074e-308\n",
      "197   -6.941819667816162  1.051050e-308\n",
      "198   -7.311468124389648  8.185589e-309\n",
      "199   -8.394006729125977  1.732889e-308\n",
      "\n",
      "[200 rows x 2 columns]\n"
     ]
    },
    {
     "ename": "IndexError",
     "evalue": "Column(s) ['output_logprob', 'BLEU_4'] already selected",
     "output_type": "error",
     "traceback": [
      "\u001b[0;31m---------------------------------------------------------------------------\u001b[0m",
      "\u001b[0;31mIndexError\u001b[0m                                Traceback (most recent call last)",
      "Cell \u001b[0;32mIn[22], line 59\u001b[0m\n\u001b[1;32m     57\u001b[0m     suptitle\u001b[38;5;241m=\u001b[39m\u001b[38;5;124m\"\u001b[39m\u001b[38;5;124mgrouped by rank within sentence\u001b[39m\u001b[38;5;124m\"\u001b[39m\n\u001b[1;32m     58\u001b[0m     \u001b[38;5;66;03m# plot_grouped(df=filtered_df, xlabel=\"output_logprob\",groupby='example_idx', ylabel=compare_metric, title=calculate_title(), ax=ax, error_bar=False)\u001b[39;00m\n\u001b[0;32m---> 59\u001b[0m     \u001b[43mplot_grouped2\u001b[49m\u001b[43m(\u001b[49m\u001b[43mdf\u001b[49m\u001b[38;5;241;43m=\u001b[39;49m\u001b[43mfiltered_df\u001b[49m\u001b[43m,\u001b[49m\u001b[43m \u001b[49m\u001b[43mxlabel\u001b[49m\u001b[38;5;241;43m=\u001b[39;49m\u001b[38;5;124;43m\"\u001b[39;49m\u001b[38;5;124;43moutput_logprob\u001b[39;49m\u001b[38;5;124;43m\"\u001b[39;49m\u001b[43m,\u001b[49m\u001b[43mgroupby\u001b[49m\u001b[38;5;241;43m=\u001b[39;49m\u001b[38;5;124;43m'\u001b[39;49m\u001b[38;5;124;43mexample_idx\u001b[39;49m\u001b[38;5;124;43m'\u001b[39;49m\u001b[43m,\u001b[49m\u001b[43m \u001b[49m\u001b[43mylabel\u001b[49m\u001b[38;5;241;43m=\u001b[39;49m\u001b[43mcompare_metric\u001b[49m\u001b[43m,\u001b[49m\u001b[43m \u001b[49m\u001b[43mtitle\u001b[49m\u001b[38;5;241;43m=\u001b[39;49m\u001b[43mcalculate_title\u001b[49m\u001b[43m(\u001b[49m\u001b[43m)\u001b[49m\u001b[43m,\u001b[49m\u001b[43m \u001b[49m\u001b[43max\u001b[49m\u001b[38;5;241;43m=\u001b[39;49m\u001b[43max\u001b[49m\u001b[43m,\u001b[49m\u001b[43m \u001b[49m\u001b[43merror_bar\u001b[49m\u001b[38;5;241;43m=\u001b[39;49m\u001b[38;5;28;43;01mFalse\u001b[39;49;00m\u001b[43m)\u001b[49m\n\u001b[1;32m     60\u001b[0m     \u001b[38;5;66;03m# plot_spline(df=examples_df, xlabel=\"output_logprob\", ylabel=compare_metric, ax=ax)\u001b[39;00m\n\u001b[1;32m     63\u001b[0m \u001b[38;5;28;01mif\u001b[39;00m fig \u001b[38;5;129;01mis\u001b[39;00m \u001b[38;5;129;01mnot\u001b[39;00m \u001b[38;5;28;01mNone\u001b[39;00m:\n",
      "Cell \u001b[0;32mIn[22], line 23\u001b[0m, in \u001b[0;36mplot_grouped2\u001b[0;34m(df, xlabel, ylabel, groupby, title, trend_line, ax, nbins, error_bar)\u001b[0m\n\u001b[1;32m     20\u001b[0m grouped \u001b[38;5;241m=\u001b[39m df\u001b[38;5;241m.\u001b[39mgroupby(groupby)[[xlabel, ylabel]]\n\u001b[1;32m     21\u001b[0m \u001b[38;5;28mprint\u001b[39m(grouped\u001b[38;5;241m.\u001b[39mhead(\u001b[38;5;241m2\u001b[39m))\n\u001b[0;32m---> 23\u001b[0m x \u001b[38;5;241m=\u001b[39m \u001b[43mgrouped\u001b[49m\u001b[43m[\u001b[49m\u001b[43mxlabel\u001b[49m\u001b[43m]\u001b[49m\n\u001b[1;32m     24\u001b[0m y \u001b[38;5;241m=\u001b[39m grouped[ylabel]\n\u001b[1;32m     26\u001b[0m ax\u001b[38;5;241m.\u001b[39mscatter(x,y)\n",
      "File \u001b[0;32m/opt/miniconda3/envs/crfm-helm2/lib/python3.9/site-packages/pandas/core/groupby/generic.py:1951\u001b[0m, in \u001b[0;36mDataFrameGroupBy.__getitem__\u001b[0;34m(self, key)\u001b[0m\n\u001b[1;32m   1944\u001b[0m \u001b[38;5;28;01mif\u001b[39;00m \u001b[38;5;28misinstance\u001b[39m(key, \u001b[38;5;28mtuple\u001b[39m) \u001b[38;5;129;01mand\u001b[39;00m \u001b[38;5;28mlen\u001b[39m(key) \u001b[38;5;241m>\u001b[39m \u001b[38;5;241m1\u001b[39m:\n\u001b[1;32m   1945\u001b[0m     \u001b[38;5;66;03m# if len == 1, then it becomes a SeriesGroupBy and this is actually\u001b[39;00m\n\u001b[1;32m   1946\u001b[0m     \u001b[38;5;66;03m# valid syntax, so don't raise\u001b[39;00m\n\u001b[1;32m   1947\u001b[0m     \u001b[38;5;28;01mraise\u001b[39;00m \u001b[38;5;167;01mValueError\u001b[39;00m(\n\u001b[1;32m   1948\u001b[0m         \u001b[38;5;124m\"\u001b[39m\u001b[38;5;124mCannot subset columns with a tuple with more than one element. \u001b[39m\u001b[38;5;124m\"\u001b[39m\n\u001b[1;32m   1949\u001b[0m         \u001b[38;5;124m\"\u001b[39m\u001b[38;5;124mUse a list instead.\u001b[39m\u001b[38;5;124m\"\u001b[39m\n\u001b[1;32m   1950\u001b[0m     )\n\u001b[0;32m-> 1951\u001b[0m \u001b[38;5;28;01mreturn\u001b[39;00m \u001b[38;5;28;43msuper\u001b[39;49m\u001b[43m(\u001b[49m\u001b[43m)\u001b[49m\u001b[38;5;241;43m.\u001b[39;49m\u001b[38;5;21;43m__getitem__\u001b[39;49m\u001b[43m(\u001b[49m\u001b[43mkey\u001b[49m\u001b[43m)\u001b[49m\n",
      "File \u001b[0;32m/opt/miniconda3/envs/crfm-helm2/lib/python3.9/site-packages/pandas/core/base.py:234\u001b[0m, in \u001b[0;36mSelectionMixin.__getitem__\u001b[0;34m(self, key)\u001b[0m\n\u001b[1;32m    232\u001b[0m \u001b[38;5;28;01mdef\u001b[39;00m \u001b[38;5;21m__getitem__\u001b[39m(\u001b[38;5;28mself\u001b[39m, key):\n\u001b[1;32m    233\u001b[0m     \u001b[38;5;28;01mif\u001b[39;00m \u001b[38;5;28mself\u001b[39m\u001b[38;5;241m.\u001b[39m_selection \u001b[38;5;129;01mis\u001b[39;00m \u001b[38;5;129;01mnot\u001b[39;00m \u001b[38;5;28;01mNone\u001b[39;00m:\n\u001b[0;32m--> 234\u001b[0m         \u001b[38;5;28;01mraise\u001b[39;00m \u001b[38;5;167;01mIndexError\u001b[39;00m(\u001b[38;5;124mf\u001b[39m\u001b[38;5;124m\"\u001b[39m\u001b[38;5;124mColumn(s) \u001b[39m\u001b[38;5;132;01m{\u001b[39;00m\u001b[38;5;28mself\u001b[39m\u001b[38;5;241m.\u001b[39m_selection\u001b[38;5;132;01m}\u001b[39;00m\u001b[38;5;124m already selected\u001b[39m\u001b[38;5;124m\"\u001b[39m)\n\u001b[1;32m    236\u001b[0m     \u001b[38;5;28;01mif\u001b[39;00m \u001b[38;5;28misinstance\u001b[39m(key, (\u001b[38;5;28mlist\u001b[39m, \u001b[38;5;28mtuple\u001b[39m, ABCSeries, ABCIndex, np\u001b[38;5;241m.\u001b[39mndarray)):\n\u001b[1;32m    237\u001b[0m         \u001b[38;5;28;01mif\u001b[39;00m \u001b[38;5;28mlen\u001b[39m(\u001b[38;5;28mself\u001b[39m\u001b[38;5;241m.\u001b[39mobj\u001b[38;5;241m.\u001b[39mcolumns\u001b[38;5;241m.\u001b[39mintersection(key)) \u001b[38;5;241m!=\u001b[39m \u001b[38;5;28mlen\u001b[39m(\u001b[38;5;28mset\u001b[39m(key)):\n",
      "\u001b[0;31mIndexError\u001b[0m: Column(s) ['output_logprob', 'BLEU_4'] already selected"
     ]
    },
    {
     "data": {
      "image/png": "[encoded data removed]",
      "text/plain": [
       "<Figure size 640x480 with 1 Axes>"
      ]
     },
     "metadata": {},
     "output_type": "display_data"
    }
   ],
   "source": [
    "\n",
    "max_example_idx = examples_df[\"example_idx\"].max()\n",
    "plots_wide=1\n",
    "num_models=len(dfs_by_model.keys())\n",
    "plots_tall=math.ceil(num_models/plots_wide)\n",
    "\n",
    "suptitle=\"\"\n",
    "axs=None\n",
    "fig=None\n",
    "# fig, axs = plt.subplots(plots_wide, plots_tall, figsize=(8, 8))\n",
    "\n",
    "\n",
    "def plot_grouped2(df, xlabel, ylabel, groupby='example_idx', title=None, trend_line=\"None\",ax=None, nbins=20, error_bar=True):\n",
    "    if(ax is None):\n",
    "        _, ax = plt.subplots()\n",
    "    warnings.simplefilter(action='ignore', category=FutureWarning)\n",
    "    if(groupby==\"bins\"):\n",
    "        df[\"bins\"]=pd.qcut(df[xlabel],nbins)\n",
    "    \n",
    "    # agg_vals = ['mean', 'count', 'std'] if error_bar else ['mean']\n",
    "    grouped = df.groupby(groupby)[[xlabel, ylabel]]\n",
    "    print(grouped.head(2))\n",
    "    \n",
    "    x = grouped[xlabel]\n",
    "    y = grouped[ylabel]\n",
    "\n",
    "    ax.scatter(x,y)\n",
    "\n",
    "    # plt.scatter(x,y)\n",
    "    ax.set_xlabel(xlabel)\n",
    "    ax.set_ylabel(ylabel)\n",
    "\n",
    "    if(title):\n",
    "        ax.set_title(title)\n",
    "    ax.show()\n",
    "\n",
    "\n",
    "\n",
    "for idx, (model_name, filtered_df) in enumerate(dfs_by_model.items()):\n",
    "\n",
    "    print(filtered_df.columns)\n",
    "    print(model_name)    \n",
    "    if axs is None:\n",
    "        ax=None\n",
    "    else:\n",
    "        title=model_name\n",
    "        if(num_models>1):\n",
    "            axs_x=idx % plots_wide\n",
    "            axs_y= math.floor(idx / plots_wide)\n",
    "            ax=axs[axs_x, axs_y]\n",
    "        else:\n",
    "            ax=axs\n",
    "\n",
    "    \n",
    "    def calculate_title():\n",
    "        return f\"{model_name}: {suptitle}\" if ax is None else model_name\n",
    "    # plot by rank within sentence\n",
    "    suptitle=\"grouped by rank within sentence\"\n",
    "    # plot_grouped(df=filtered_df, xlabel=\"output_logprob\",groupby='example_idx', ylabel=compare_metric, title=calculate_title(), ax=ax, error_bar=False)\n",
    "    plot_grouped2(df=filtered_df, xlabel=\"output_logprob\",groupby='example_idx', ylabel=compare_metric, title=calculate_title(), ax=ax, error_bar=False)\n",
    "    plot_spline(df=examples_df, xlabel=\"output_logprob\", ylabel=compare_metric, ax=ax)\n",
    "    # plot_spline(df=examples_df, xlabel=\"output_logprob\", ylabel=compare_metric, ax=ax)\n",
    "\n",
    "    \n",
    "if fig is not None:\n",
    "    fig.suptitle(title)\n",
    "    fig.tight_layout()\n",
    "    "
   ]
  },
  {
   "cell_type": "code",
   "execution_count": 4,
   "metadata": {},
   "outputs": [
    {
     "name": "stdout",
     "output_type": "stream",
     "text": [
      "{'percent_effected': np.float64(0.14), 'win_rate': np.float64(0.5205), 'average_diff_norm': np.float64(0.015042813671901004), 'effect_diff_norm': np.float64(0.07155627229668524), 'effect_size_norm': np.float64(0.02948391479692597)}\n"
     ]
    }
   ],
   "source": [
    "#first: I calculate win rates\n",
    "\n",
    "def get_iom_metrics_dict(df,compare_metric,ax=None):\n",
    "    # plot_grouped(df, xlabel, ylabel, groupby='example_idx', title=None, trend_line=\"None\",ax=None, nbins=20):\n",
    "    # grouped = df.groupby(\"example_idx\")[[xlabel, ylabel]].agg(['mean', 'count', 'std'])\n",
    "\n",
    "    max_example_idx = df[\"example_idx\"].max()\n",
    "    num_ranks=max_example_idx+1\n",
    "    # pivoted = df.pivot(columns='example_idx', values=compare_metric )\n",
    "    # pivoted_mean=pivoted.mean()\n",
    "    pivoted = df.pivot(index=\"instanceID\",columns=\"example_idx\", values=compare_metric )\n",
    "    # print(pivoted.head(2))\n",
    "    mean_pivoted=pivoted.mean()\n",
    "    ave_val=mean_pivoted.mean()\n",
    "\n",
    "    # pivoted_x = df.pivot(columns=\"example_idx\", values=\"output_logprob\").mean()\n",
    "    \n",
    "    best_rank = mean_pivoted.idxmax()\n",
    "    ranks_effected=best_rank\n",
    "    percent_effected=ranks_effected / num_ranks\n",
    "    score_diff=0\n",
    "\n",
    "    win_rate_by_col=[-1]*(best_rank+1)\n",
    "    for compare_rank in range(best_rank+1):\n",
    "        win_rate_col_name=f\"win_rate_{compare_rank}\"\n",
    "        pivoted[win_rate_col_name] = pivoted.apply( lambda row: get_win_rate(row,compare_rank, best_rank) , axis=1)\n",
    "        win_rate_by_col[compare_rank] = pivoted[win_rate_col_name].mean()\n",
    "\n",
    "    win_rate=win_rate_by_col[0]\n",
    "    # print(\"win_rate_by_col\",win_rate_by_col)\n",
    "\n",
    "    for compare_rank in range(best_rank):\n",
    "        score_diff+= mean_pivoted[best_rank]-mean_pivoted[compare_rank]\n",
    "    \n",
    "\n",
    "    effect_size=score_diff*percent_effected\n",
    "    average_diff=score_diff/ranks_effected\n",
    "    effect_diff=mean_pivoted[best_rank]-mean_pivoted[0]\n",
    "\n",
    "    average_diff_norm=average_diff/ave_val\n",
    "    effect_diff_norm=effect_diff/ave_val\n",
    "    effect_size_norm=effect_size /ave_val\n",
    "\n",
    "    return {\n",
    "        # \"effect_size\": effect_size,\n",
    "        # \"average_diff\": average_diff,\n",
    "        # \"effect_diff\": effect_diff,\n",
    "        \"percent_effected\":percent_effected,\n",
    "        \"win_rate\":win_rate,\n",
    "\n",
    "        \"average_diff_norm\":average_diff_norm,\n",
    "        \"effect_diff_norm\":effect_diff_norm,\n",
    "        \"effect_size_norm\":effect_size_norm\n",
    "    }\n",
    "\n",
    "\n",
    "\n",
    "iom_metrics_dict_by_model={}\n",
    "for idx, (model_name, filtered_df) in enumerate(dfs_by_model.items()):\n",
    "    # print(model_name)\n",
    "    iom_metrics_dict_by_model[model_name]=get_iom_metrics_dict(filtered_df, compare_metric=compare_metric)\n",
    "    print(iom_metrics_dict_by_model[model_name])\n",
    "\n",
    "\n",
    "\n",
    "\n",
    "# 14% effected, \n",
    "\n",
    "\n",
    "\n",
    "\n",
    "\n",
    "\n",
    "    \n"
   ]
  },
  {
   "cell_type": "code",
   "execution_count": 5,
   "metadata": {},
   "outputs": [
    {
     "name": "stdout",
     "output_type": "stream",
     "text": [
      "{'meta_llama_Llama_3.1_8B_Instruct': {'percent_effected': np.float64(0.14), 'win_rate': np.float64(0.5205), 'average_diff_norm': np.float64(0.015042813671901004), 'effect_diff_norm': np.float64(0.07155627229668524), 'effect_size_norm': np.float64(0.02948391479692597)}}\n"
     ]
    }
   ],
   "source": [
    "print(iom_metrics_dict_by_model)"
   ]
  },
  {
   "cell_type": "code",
   "execution_count": 6,
   "metadata": {},
   "outputs": [
    {
     "name": "stdout",
     "output_type": "stream",
     "text": [
      "dict_keys(['llama'])\n",
      "{'meta_llama_Llama_3.1_8B_Instruct': {'percent_effected': np.float64(0.14), 'win_rate': np.float64(0.5205), 'average_diff_norm': np.float64(0.015042813671901004), 'effect_diff_norm': np.float64(0.07155627229668524), 'effect_size_norm': np.float64(0.02948391479692597)}}\n"
     ]
    }
   ],
   "source": [
    "#Here is current goal:\n",
    "\n",
    "#each metric gets a graph\n",
    "#each suite gets a line\n",
    "#x axis is model size\n",
    "#y axis is metric\n",
    "\n",
    "\n",
    "\n",
    "def append_to_dict(dict, key_list, value):\n",
    "    cur_key=key_list[0]\n",
    "    \n",
    "    #make sure it exists\n",
    "    if cur_key not in dict.keys():\n",
    "        dict[cur_key]={}\n",
    "\n",
    "    #append recursively if not\n",
    "    if(len(key_list)>1):\n",
    "        append_to_dict(dict[cur_key], key_list[1:], value)\n",
    "    else:\n",
    "        dict[cur_key]=value\n",
    "\n",
    "\n",
    "iom_metrics_dict_by_properties={}\n",
    "\n",
    "for (model_name, iom_metrics_dict) in iom_metrics_dict_by_model.items():\n",
    "    model_details = get_model_details(model_name)\n",
    "\n",
    "    append_to_dict(iom_metrics_dict_by_properties, [ model_details[\"suite\"], model_details[\"model_type\"],  model_details[\"size\"] ], iom_metrics_dict)\n",
    "\n",
    "print(iom_metrics_dict_by_properties.keys())\n",
    "\n",
    "\n",
    "\n",
    "    \n",
    "print(iom_metrics_dict_by_model)\n",
    "#plot by model size\n",
    "# iom_metric_keys=next(iter(iom_metrics_dict_by_model.values())).keys()\n",
    "# for iom_metric in iom_metric_keys: \n",
    "#     fig, ax = plt.subplots()\n",
    "#     for suite in iom_metrics_dict_by_properties.keys():\n",
    "#         for model_type in iom_metrics_dict_by_properties[suite].keys():\n",
    "#             x=[]\n",
    "#             y=[]\n",
    "#             for size in iom_metrics_dict_by_properties[suite][model_type].keys():\n",
    "#                 value=iom_metrics_dict_by_properties[suite][model_type][size][iom_metric]\n",
    "#                 x.append(size)\n",
    "#                 y.append(value)\n",
    "#             ax.scatter(x,y, label=suite)\n",
    "#     ax.set_xlabel('model size')\n",
    "#     ax.set_ylabel(iom_metric)\n",
    "#     ax.legend()\n",
    "#     fig.show()\n",
    "\n",
    "#plot by model strength\n",
    "# for iom_metric in iom_metric_keys: \n",
    "#     # print(\"iom_metric\")\n",
    "#     fig, ax = plt.subplots()\n",
    "#     x=[]\n",
    "#     y=[]\n",
    "#     for (model_name, iom_metrics_dict) in iom_metrics_dict_by_model.items():\n",
    "#         filtered_df=dfs_by_model[model_name]\n",
    "#         ave_vale=filtered_df[compare_metric].mean()\n",
    "#         x.append(ave_vale)\n",
    "#         y.append(iom_metrics_dict[iom_metric])\n",
    "#     ax.scatter(x,y)\n",
    "#     ax.set_xlabel(\"Average \"+str(compare_metric))\n",
    "#     ax.set_ylabel(iom_metric)\n",
    "#     ax.legend()\n",
    "#     #fig.show()\n",
    "\n",
    "\n",
    "\n"
   ]
  },
  {
   "cell_type": "code",
   "execution_count": 7,
   "metadata": {},
   "outputs": [
    {
     "name": "stdout",
     "output_type": "stream",
     "text": [
      "213\n",
      "213\n",
      "246\n",
      "246\n"
     ]
    },
    {
     "data": {
      "image/png": "[encoded data removed]",
      "text/plain": [
       "<Figure size 640x480 with 1 Axes>"
      ]
     },
     "metadata": {},
     "output_type": "display_data"
    }
   ],
   "source": [
    "#ok, I only want to keep columns where the rank is 14 or 0\n",
    "df = filtered_df\n",
    "max_example_idx = df[\"example_idx\"].max()\n",
    "num_ranks=max_example_idx+1\n",
    "pivoted = df.pivot(index=\"instanceID\",columns=\"example_idx\", values=compare_metric )\n",
    "mean_pivoted=pivoted.mean()\n",
    "ave_val=mean_pivoted.mean()\n",
    "best_rank = mean_pivoted.idxmax()\n",
    "\n",
    "best_and_first=filtered_df[ filtered_df['example_idx'].isin([0, best_rank])]\n",
    "\n",
    "cols_to_keep=[\"example_comet\", \"example_idx\", \"output_logprob\", \"completion_length\"]\n",
    "best_and_first=best_and_first[[\"example_comet\", \"example_idx\", \"output_logprob\", \"completion_length\"]]\n",
    "\n",
    "best_and_first_grouped=best_and_first.groupby([\"completion_length\", \"example_idx\"]).mean().reset_index()\n",
    "\n",
    "_, ax = plt.subplots()\n",
    "\n",
    "\n",
    "# #we want to see, for each completion length, the average metric score\n",
    "# #we will do this for both ranks, 0 and 14\n",
    "\n",
    "for rank in [0, best_rank]:\n",
    "    cur_df=best_and_first_grouped[best_and_first_grouped[\"example_idx\"]==rank]\n",
    "    x=cur_df[\"completion_length\"]\n",
    "    y=cur_df[\"example_comet\"]\n",
    "    print(len(x))\n",
    "    print(len(y))\n",
    "    ax.scatter(x,y, label=rank)\n",
    "    ax.legend()\n",
    "\n",
    "\n"
   ]
  },
  {
   "cell_type": "code",
   "execution_count": 8,
   "metadata": {},
   "outputs": [],
   "source": [
    "filtered_df[\"logprob_per_length\"]=filtered_df[\"output_logprob\"]/ filtered_df[\"completion_length\"]\n",
    "\n",
    "filtered_df['rank2'] = filtered_df.groupby('instanceID')['logprob_per_length'].rank(method='first', ascending=True) - 1\n",
    "filtered_df['rank2'] = filtered_df['rank2'].astype(int)\n",
    "\n"
   ]
  },
  {
   "cell_type": "code",
   "execution_count": 9,
   "metadata": {},
   "outputs": [
    {
     "data": {
      "image/png": "[encoded data removed]",
      "text/plain": [
       "<Figure size 640x480 with 1 Axes>"
      ]
     },
     "metadata": {},
     "output_type": "display_data"
    }
   ],
   "source": [
    "plot_grouped(filtered_df, \"output_logprob\", compare_metric, groupby='rank2', title=None, trend_line=\"None\",ax=None)"
   ]
  },
  {
   "cell_type": "code",
   "execution_count": 12,
   "metadata": {},
   "outputs": [
    {
     "name": "stdout",
     "output_type": "stream",
     "text": [
      "                            OLS Regression Results                            \n",
      "==============================================================================\n",
      "Dep. Variable:          example_comet   R-squared:                       0.160\n",
      "Model:                            OLS   Adj. R-squared:                  0.159\n",
      "Method:                 Least Squares   F-statistic:                     189.7\n",
      "Date:                Thu, 19 Jun 2025   Prob (F-statistic):           3.68e-76\n",
      "Time:                        16:36:55   Log-Likelihood:                 848.60\n",
      "No. Observations:                2000   AIC:                            -1691.\n",
      "Df Residuals:                    1997   BIC:                            -1674.\n",
      "Df Model:                           2                                         \n",
      "Covariance Type:            nonrobust                                         \n",
      "=====================================================================================\n",
      "                        coef    std err          t      P>|t|      [0.025      0.975]\n",
      "-------------------------------------------------------------------------------------\n",
      "const                 0.6936      0.008     86.990      0.000       0.678       0.709\n",
      "completion_length     0.0011   5.97e-05     17.962      0.000       0.001       0.001\n",
      "is_completion        -0.0279      0.007     -3.864      0.000      -0.042      -0.014\n",
      "==============================================================================\n",
      "Omnibus:                      208.651   Durbin-Watson:                   1.359\n",
      "Prob(Omnibus):                  0.000   Jarque-Bera (JB):              276.699\n",
      "Skew:                          -0.903   Prob(JB):                     8.23e-61\n",
      "Kurtosis:                       3.236   Cond. No.                         298.\n",
      "==============================================================================\n",
      "\n",
      "Notes:\n",
      "[1] Standard Errors assume that the covariance matrix of the errors is correctly specified.\n"
     ]
    }
   ],
   "source": [
    "#ok, we just want to predict\n",
    "#example metric using length and rank\n",
    "\n",
    "import statsmodels.api as sm\n",
    "best_and_first[\"is_completion\"]=(best_and_first[\"example_idx\"]==0).astype(int)\n",
    "\n",
    "X = best_and_first[['completion_length', 'is_completion']]\n",
    "X = sm.add_constant(X) \n",
    "y = best_and_first['example_comet']\n",
    "\n",
    "model = sm.OLS(y, X).fit()\n",
    "\n",
    "print(model.summary())\n",
    "\n",
    "#so, ideally is_completion should be negatively correlated with example_comet\n"
   ]
  },
  {
   "cell_type": "code",
   "execution_count": 14,
   "metadata": {},
   "outputs": [
    {
     "name": "stdout",
     "output_type": "stream",
     "text": [
      "                            OLS Regression Results                            \n",
      "==============================================================================\n",
      "Dep. Variable:          example_comet   R-squared:                       0.137\n",
      "Model:                            OLS   Adj. R-squared:                  0.137\n",
      "Method:                 Least Squares   F-statistic:                     7937.\n",
      "Date:                Thu, 19 Jun 2025   Prob (F-statistic):               0.00\n",
      "Time:                        16:43:10   Log-Likelihood:                 42406.\n",
      "No. Observations:              100000   AIC:                        -8.481e+04\n",
      "Df Residuals:                   99997   BIC:                        -8.478e+04\n",
      "Df Model:                           2                                         \n",
      "Covariance Type:            nonrobust                                         \n",
      "=====================================================================================\n",
      "                        coef    std err          t      P>|t|      [0.025      0.975]\n",
      "-------------------------------------------------------------------------------------\n",
      "const                 0.7243      0.001    788.110      0.000       0.723       0.726\n",
      "completion_length     0.0006   7.43e-06     76.760      0.000       0.001       0.001\n",
      "output_logprob        0.0006   5.49e-06    116.611      0.000       0.001       0.001\n",
      "==============================================================================\n",
      "Omnibus:                     9371.518   Durbin-Watson:                   1.284\n",
      "Prob(Omnibus):                  0.000   Jarque-Bera (JB):            12294.150\n",
      "Skew:                          -0.813   Prob(JB):                         0.00\n",
      "Kurtosis:                       3.554   Cond. No.                         277.\n",
      "==============================================================================\n",
      "\n",
      "Notes:\n",
      "[1] Standard Errors assume that the covariance matrix of the errors is correctly specified.\n"
     ]
    }
   ],
   "source": [
    "\n",
    "\n",
    "X = filtered_df[['completion_length', 'output_logprob']]\n",
    "X = sm.add_constant(X) \n",
    "y = filtered_df['example_comet']\n",
    "\n",
    "model = sm.OLS(y, X).fit()\n",
    "\n",
    "print(model.summary())"
   ]
  }
 ],
 "metadata": {
  "kernelspec": {
   "display_name": "crfm-helm2",
   "language": "python",
   "name": "python3"
  },
  "language_info": {
   "codemirror_mode": {
    "name": "ipython",
    "version": 3
   },
   "file_extension": ".py",
   "mimetype": "text/x-python",
   "name": "python",
   "nbconvert_exporter": "python",
   "pygments_lexer": "ipython3",
   "version": "3.9.18"
  }
 },
 "nbformat": 4,
 "nbformat_minor": 2
}
