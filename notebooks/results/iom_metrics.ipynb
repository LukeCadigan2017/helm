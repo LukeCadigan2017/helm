{
 "cells": [
  {
   "cell_type": "code",
   "execution_count": 1,
   "metadata": {},
   "outputs": [
    {
     "name": "stderr",
     "output_type": "stream",
     "text": [
      "/opt/miniconda3/envs/crfm-helm2/lib/python3.9/site-packages/tqdm/auto.py:21: TqdmWarning: IProgress not found. Please update jupyter and ipywidgets. See https://ipywidgets.readthedocs.io/en/stable/user_install.html\n",
      "  from .autonotebook import tqdm as notebook_tqdm\n",
      "PyTorch version 2.6.0 available.\n"
     ]
    }
   ],
   "source": [
    "\n",
    "\n",
    "import pandas as pd\n",
    "from helm.benchmark.runner import InstanceGenerations,GenerationSummary\n",
    "from typing import Any, List\n",
    "import json\n",
    "from helm.common.request import (GeneratedOutput, Token)\n",
    "\n",
    "import PostMetric\n",
    "import pandas as pd\n",
    "\n",
    "from helm.benchmark.metrics.statistic import Stat\n",
    "from typing import Dict, Optional\n",
    "\n",
    "from helm.benchmark.augmentations.perturbation_description import (\n",
    "    PerturbationDescription)\n",
    "from dataclasses import dataclass\n",
    "from process_gens import *\n",
    "from process_gen_utils import *\n",
    "\n",
    "\n",
    "\n",
    "\n",
    "\n",
    "#wmt modes\n",
    "process_gen_modes=[\"wmt_samples0\"]\n",
    "\n",
    "\n",
    "dfs_by_model,processGens,(root_folder, num_beams_list, models, custom_metrics, task_names, suite_name, instance_metrics, compare_metric)= get_dfs_by_model(process_gen_modes)\n",
    "examples_df = pd.concat(list(dfs_by_model.values()))\n",
    "\n",
    "model_name=models[0]\n",
    "df = dfs_by_model[model_name]\n",
    "\n",
    "\n",
    "#5 threads for llama1, \n",
    "# processGens=ProcessGens()\n",
    "# processGens.init_with_mode(process_gen_modes)\n",
    "# root_folder, num_beams_list, models, custom_metrics, task_names, suite_name, instance_metrics, compare_metric = processGens.get_params()\n",
    "# compare_metric=\"example_comet\"\n",
    "# examples_df, completions_df=get_dfs(processGens)\n",
    "\n",
    "\n",
    "# dfs_by_model={}\n",
    "# for model_name in examples_df['model'].unique():\n",
    "#     filtered_df = examples_df[examples_df[\"model\"]==model_name]\n",
    "#     dfs_by_model[model_name]=filtered_df\n",
    "\n",
    "# all_dfs_by_model=dfs_by_model\n",
    "# df=next(iter(dfs_by_model.values()))"
   ]
  },
  {
   "cell_type": "code",
   "execution_count": 2,
   "metadata": {},
   "outputs": [],
   "source": [
    "\n",
    "\n",
    "\n",
    "# import pandas as pd\n",
    "# from helm.benchmark.runner import InstanceGenerations,GenerationSummary\n",
    "# from typing import Any, List\n",
    "# import json\n",
    "# from helm.common.request import (GeneratedOutput, Token)\n",
    "\n",
    "# import PostMetric\n",
    "# import pandas as pd\n",
    "\n",
    "# from helm.benchmark.metrics.statistic import Stat\n",
    "# from typing import Dict, Optional\n",
    "\n",
    "# from helm.benchmark.augmentations.perturbation_description import (\n",
    "#     PerturbationDescription)\n",
    "# from dataclasses import dataclass\n",
    "# from process_gens import *\n",
    "# from process_gen_utils import *\n",
    "# from sklearn.metrics import r2_score\n",
    "# from dcor import distance_correlation\n",
    "\n",
    "# from scipy.stats import linregress\n",
    "\n",
    "\n",
    "\n",
    "\n",
    "# class Calculate_Metrics():\n",
    "#     def __init__(self, df, compare_metric):\n",
    "\n",
    "#         unique_models=df['model'].unique()\n",
    "#         assert len(unique_models)==1\n",
    "#         self.model_name=unique_models[0]\n",
    "#         self.compare_metric=compare_metric\n",
    "\n",
    "\n",
    "#         self.pivoted = df.pivot(index=\"instanceID\",columns=\"rank\", values=self.compare_metric )\n",
    "#         self.mean_pivoted=self.pivoted.mean()\n",
    "#         self.median_pivoted=self.pivoted.median()\n",
    "#         self.compare_metric=self.compare_metric\n",
    "\n",
    "#         self.grouped = df.groupby(\"example_idx\")[[\"rank\", self.compare_metric, \"completion_length\"]].mean()\n",
    "#         self.X=self.grouped[\"rank\"].values.reshape(-1,1).astype(np.float64)\n",
    "#         self.x=self.X.reshape(-1)\n",
    "#         self.y=self.grouped[self.compare_metric].values.reshape(-1).astype(np.float64)\n",
    "\n",
    "\n",
    "#         self.metrics={}\n",
    "#         self.basic_metrics()\n",
    "#         self.stats_metrics()\n",
    "#         self.gam_metrics()\n",
    "#         self.get_length_stats()\n",
    "\n",
    "\n",
    "\n",
    "#     def basic_metrics(self):\n",
    "#         self.ave_val=float(self.mean_pivoted.mean())\n",
    "#         self.metrics[\"ave_val\"]=self.ave_val\n",
    "\n",
    "#         best_rank = self.mean_pivoted.idxmax()\n",
    "\n",
    "\n",
    "#         self.metrics[\"0_score\"]= float(self.mean_pivoted[1])\n",
    "#         self.metrics[\"100_score\"]= float(self.mean_pivoted[100])\n",
    "#         self.metrics[\"100_median\"]=float(self.median_pivoted[100])\n",
    "\n",
    "#         self.metrics[\"best_rank\"]=int(best_rank)\n",
    "#         self.metrics[\"best_score\"]=float(self.mean_pivoted[best_rank])\n",
    "#         self.metrics[\"best_median\"]=float(self.median_pivoted[100])\n",
    "\n",
    "#         self.metrics[\"model_name\"]=self.model_name\n",
    "\n",
    "\n",
    "#         def get_win_rate(row, col1:str, col2:str) -> float:\n",
    "#             if row[col1]==row[col2]:\n",
    "#                 return 0.5\n",
    "#             return float((row[col1] - row[col2])>0)\n",
    "\n",
    "\n",
    "#         self.pivoted[\"win_rate_of_best\"] = self.pivoted.apply( lambda row: get_win_rate(row,best_rank, 100) , axis=1)\n",
    "#         win_rate=self.pivoted[\"win_rate_of_best\"].mean()\n",
    "#         self.metrics[\"win_rate\"]=win_rate\n",
    "\n",
    "#     def stats_metrics(self):\n",
    "#         dcor = distance_correlation(self.X, self.y)\n",
    "#         self.metrics[\"dcor\"]=float(dcor)\n",
    "\n",
    "#         res=linregress(self.x, self.y)\n",
    "#         plt.plot(self.x, self.y, 'o', label='original data')\n",
    "#         plt.plot(self.x, res.intercept + res.slope*self.x, 'r', label='fitted line')\n",
    "#         plt.legend()\n",
    "#         plt.show()\n",
    "\n",
    "#         lin_effect= 100*res.slope\n",
    "\n",
    "#         self.metrics[\"lin_effect\"]=lin_effect\n",
    "\n",
    "#         print(f\"lin_effect is {lin_effect}\")\n",
    "\n",
    "\n",
    "#     def gam_metrics(self):\n",
    "#         # Assuming df is your dataframe\n",
    "\n",
    "#         gam = LinearGAM(s(0)).gridsearch(self.X, self.y)\n",
    "\n",
    "\n",
    "#         #R2\n",
    "#         r2 = r2_score(self.y,  gam.predict(self.X))\n",
    "#         self.metrics[\"r2\"]=r2\n",
    "\n",
    "\n",
    "#         #find peak\n",
    "#         all_x=np.linspace(0,100,1000)\n",
    "#         all_y_pred=gam.predict(all_x)\n",
    "#         argmax_idx=np.argmax(all_y_pred)\n",
    "#         pred_peak_x=all_x[argmax_idx]\n",
    "#         pred_peak_y=all_y_pred[argmax_idx]\n",
    "#         self.metrics[\"pred_peak_x\"]=float(pred_peak_x)\n",
    "#         self.metrics[\"pred_peak_y\"]=float(pred_peak_y)\n",
    "#         self.metrics[\"pred_100\"]=float(gam.predict(100)[0])\n",
    "\n",
    "\n",
    "\n",
    "#         gam_ave_diff= np.mean(np.abs(all_y_pred-self.ave_val))\n",
    "\n",
    "#         self.metrics[\"gam_ave_diff\"]=float(gam_ave_diff)\n",
    "\n",
    "#         #degen_integral\n",
    "#         num_slices=1000\n",
    "#         degen_x=np.linspace(pred_peak_x,100,num_slices)\n",
    "#         degen_y=gam.predict(degen_x)\n",
    "#         ave_diff=np.mean(pred_peak_y-degen_y)\n",
    "\n",
    "#         degen_intral=ave_diff*(100-pred_peak_x)/100\n",
    "\n",
    "#         self.metrics[\"degen_intral\"]=degen_intral\n",
    "\n",
    "\n",
    "#     def get_length_stats(self):\n",
    "#         length_y = self.grouped[\"completion_length\"].values.reshape( -1)\n",
    "#         res=linregress(self.x, length_y)\n",
    "#         length_lin_effect= 100*res.slope\n",
    "#         self.metrics[\"length_lin_effect\"]=length_lin_effect\n",
    "#         self.metrics[\"length_100\"]=length_y[0]\n",
    "#         self.metrics[\"length_0\"]=length_y[-1]\n",
    "#         self.metrics[\"length_ave\"]=np.mean(length_y)\n"
   ]
  },
  {
   "cell_type": "code",
   "execution_count": 3,
   "metadata": {},
   "outputs": [
    {
     "name": "stderr",
     "output_type": "stream",
     "text": [
      "  0% (0 of 11) |                         | Elapsed Time: 0:00:00 ETA:  --:--:--\n",
      "100% (11 of 11) |########################| Elapsed Time: 0:00:00 Time:  0:00:00\n"
     ]
    },
    {
     "name": "stdout",
     "output_type": "stream",
     "text": [
      "{'ave_val': 0.7462456808367373, '0_rank': 0.5406287564337253, '100_rank': 0.7516635504513979, '100_median': 0.8379791378974915, 'best_rank': 86, 'best_score': 0.8050621095895767, 'best_median': 0.8379791378974915, 'model_name': 'meta_llama_Llama_3.1_8B_Instruct', 'win_rate': np.float64(0.4795), 'dcor': 0.9669500637914068, 'lin_effect': np.float64(0.1554127014037764), 'r2': 0.9929713306876621, 'pred_peak_x': 91.5915915915916, 'pred_peak_y': 0.80207860845321, 'gam_ave_diff': 0.04060695687763523, 'degen_intral': np.float64(0.000852389648847669), 'length_lin_effect': np.float64(-22.154376837683774), 'length_100': np.float64(80.095), 'length_0': np.float64(171.082), 'length_ave': np.float64(106.18150999999997)}\n",
      "['meta_llama_Llama_3.1_8B_Instruct']\n"
     ]
    }
   ],
   "source": [
    "from calculate_metrics import Calculate_Metrics\n",
    "df=next(iter(dfs_by_model.values()))\n",
    "my_calculate_metrics= Calculate_Metrics(df, compare_metric)\n",
    "print(my_calculate_metrics.metrics)\n",
    "print(df['model'].unique())"
   ]
  },
  {
   "cell_type": "code",
   "execution_count": 4,
   "metadata": {},
   "outputs": [
    {
     "name": "stdout",
     "output_type": "stream",
     "text": [
      "num examples 100000\n",
      "compare_metric mean:  example_comet    0.746246\n",
      "dtype: float64\n",
      "Index(['example_comet', 'beam_num', 'task_name', 'model', 'example_idx',\n",
      "       'rank', 'suite', 'instanceID', 'text', 'completion_length',\n",
      "       'output_logprob', 'isCompletion'],\n",
      "      dtype='object')\n"
     ]
    },
    {
     "data": {
      "text/plain": [
       "<Axes: >"
      ]
     },
     "execution_count": 4,
     "metadata": {},
     "output_type": "execute_result"
    },
    {
     "data": {
      "image/png": "[encoded data removed]",
      "text/plain": [
       "<Figure size 1000x1000 with 1 Axes>"
      ]
     },
     "metadata": {},
     "output_type": "display_data"
    }
   ],
   "source": [
    "# print(f\"\\t root_folder: {root_folder} \\n \\t num_beams_list {num_beams_list} \\n \\t models: {models} \\n \\t custom_metrics{[metric.name() for metric in custom_metrics]}\"+ \n",
    "#     f\"\\n \\t task_names {task_names} \\n \\t suite_name {suite_name} \\n \\t instance_metrics {instance_metrics}\")\n",
    "# # instanceGeneration=get_first(processGens.first_run_instances)\n",
    "# print(examples_df.head(2))\n",
    "print(\"num examples\" ,len(examples_df))\n",
    "print(f\"compare_metric mean: \",examples_df[[compare_metric]].mean())\n",
    "print(df.columns)\n",
    "plot_smooth_spline(df=df, xlabel=\"rank\",groupby='example_idx', ylabel=compare_metric, title=\"\", error_bar=True, figsize=(10,10))\n",
    "\n"
   ]
  },
  {
   "cell_type": "code",
   "execution_count": 5,
   "metadata": {},
   "outputs": [],
   "source": [
    "#create dicts\n",
    "num_ranks=100\n",
    "pivoted = df.pivot(index=\"instanceID\",columns=\"rank\", values=compare_metric )\n",
    "mean_pivoted=pivoted.mean()\n",
    "median_pivoted=pivoted.median()\n",
    "\n",
    "grouped = df.groupby(\"example_idx\")[[\"rank\", compare_metric, \"completion_length\"]].mean()\n",
    "\n",
    "\n",
    "\n",
    "X=df[\"rank\"].values.reshape(-1,1).astype(np.float64)\n",
    "x=X.reshape(-1)\n",
    "y=df[compare_metric].values.reshape(-1).astype(np.float64)\n",
    "metrics={\"model_name\":model_name}"
   ]
  },
  {
   "cell_type": "markdown",
   "metadata": {},
   "source": [
    "First, establish the basic facts"
   ]
  },
  {
   "cell_type": "code",
   "execution_count": 6,
   "metadata": {},
   "outputs": [],
   "source": [
    "\n",
    "#expectation: \n",
    "# best_rank=84\n",
    "# rank100=.75\n",
    "# rank0=0.53\n",
    "# corr=positive\n",
    "\n",
    "ave_val=float(mean_pivoted.mean())\n",
    "metrics[\"ave_val\"]=ave_val\n",
    "\n",
    "best_rank = mean_pivoted.idxmax()\n",
    "\n",
    "\n",
    "metrics[\"0_score\"]= float(mean_pivoted[1])\n",
    "metrics[\"100_score\"]= float(mean_pivoted[100])\n",
    "metrics[\"100_median\"]=float(median_pivoted[100])\n",
    "\n",
    "metrics[\"best_rank\"]=int(best_rank)\n",
    "metrics[\"best_score\"]=float(mean_pivoted[best_rank])\n",
    "metrics[\"best_median\"]=float(median_pivoted[100])\n",
    "\n",
    "\n",
    "\n",
    "def get_win_rate(row, col1:str, col2:str) -> float:\n",
    "    if row[col1]==row[col2]:\n",
    "        return 0.5\n",
    "    return float((row[col1] - row[col2])>0)\n",
    "\n",
    "\n",
    "pivoted[\"win_rate_of_best\"] = pivoted.apply( lambda row: get_win_rate(row,best_rank, 100) , axis=1)\n",
    "win_rate=pivoted[\"win_rate_of_best\"].mean()\n",
    "metrics[\"win_rate\"]=win_rate\n",
    "\n",
    "\n"
   ]
  },
  {
   "cell_type": "markdown",
   "metadata": {},
   "source": [
    "Correlation and linear regress"
   ]
  },
  {
   "cell_type": "code",
   "execution_count": 7,
   "metadata": {},
   "outputs": [],
   "source": [
    "from dcor import distance_correlation\n",
    "dcor = distance_correlation(X, y)\n",
    "metrics[\"dcor\"]=float(dcor)\n"
   ]
  },
  {
   "cell_type": "markdown",
   "metadata": {},
   "source": [
    "Gam Metrics"
   ]
  },
  {
   "cell_type": "code",
   "execution_count": 8,
   "metadata": {},
   "outputs": [
    {
     "name": "stderr",
     "output_type": "stream",
     "text": [
      "  0% (0 of 11) |                         | Elapsed Time: 0:00:00 ETA:  --:--:--\n",
      " 54% (6 of 11) |#############            | Elapsed Time: 0:00:00 ETA:   0:00:00\n",
      "100% (11 of 11) |########################| Elapsed Time: 0:00:00 Time:  0:00:00\n"
     ]
    }
   ],
   "source": [
    "\n",
    "from sklearn.metrics import r2_score\n",
    "\n",
    "\n",
    "\n",
    "\n",
    "# Assuming df is your dataframe\n",
    "X = grouped[\"rank\"].values.reshape(-1,1)\n",
    "y = grouped[compare_metric].values.reshape( -1)\n",
    "x=X.reshape(-1)\n",
    "\n",
    "gam = LinearGAM(s(0)).gridsearch(X, y)\n",
    "\n",
    "\n",
    "#R2\n",
    "y_pred = gam.predict(X)\n",
    "r2 = r2_score(y,  gam.predict(X))\n",
    "metrics[\"r2\"]=r2\n",
    "\n",
    "\n",
    "#find peak\n",
    "all_x=np.linspace(0,100,1000)\n",
    "all_y_pred=gam.predict(all_x)\n",
    "argmax_idx=np.argmax(all_y_pred)\n",
    "pred_peak_x=all_x[argmax_idx]\n",
    "pred_peak_y=all_y_pred[argmax_idx]\n",
    "metrics[\"pred_peak_x\"]=float(pred_peak_x)\n",
    "metrics[\"pred_peak_y\"]=float(pred_peak_y)\n",
    "metrics[\"pred_100\"]=float(gam.predict(100)[0])\n",
    "\n",
    "\n",
    "\n",
    "gam_ave_diff= np.mean(np.abs(all_y_pred-ave_val))\n",
    "\n",
    "metrics[\"gam_ave_diff\"]=float(gam_ave_diff)\n"
   ]
  },
  {
   "cell_type": "code",
   "execution_count": 9,
   "metadata": {},
   "outputs": [],
   "source": [
    "#degen_integral\n",
    "num_slices=1000\n",
    "degen_x=np.linspace(pred_peak_x,100,num_slices)\n",
    "degen_y=gam.predict(degen_x)\n",
    "ave_diff=np.mean(pred_peak_y-degen_y)\n",
    "\n",
    "degen_intral=ave_diff*(100-pred_peak_x)/100\n",
    "\n",
    "metrics[\"degen_intral\"]=degen_intral\n",
    "\n"
   ]
  },
  {
   "cell_type": "code",
   "execution_count": 10,
   "metadata": {},
   "outputs": [
    {
     "data": {
      "image/png": "[encoded data removed]",
      "text/plain": [
       "<Figure size 640x480 with 1 Axes>"
      ]
     },
     "metadata": {},
     "output_type": "display_data"
    },
    {
     "name": "stdout",
     "output_type": "stream",
     "text": [
      "lin_effect is 0.1554127014037764\n"
     ]
    }
   ],
   "source": [
    "from scipy.stats import linregress\n",
    "\n",
    "res=linregress(x, y)\n",
    "plt.plot(x, y, 'o', label='original data')\n",
    "plt.plot(x, res.intercept + res.slope*x, 'r', label='fitted line')\n",
    "plt.legend()\n",
    "plt.show()\n",
    "\n",
    "lin_effect= 100*res.slope\n",
    "\n",
    "metrics[\"lin_effect\"]=lin_effect\n",
    "\n",
    "print(f\"lin_effect is {lin_effect}\")\n",
    "\n",
    "\n",
    "\n",
    "\n",
    "\n"
   ]
  },
  {
   "cell_type": "code",
   "execution_count": 11,
   "metadata": {},
   "outputs": [],
   "source": [
    "\n",
    "length_y = grouped[\"completion_length\"].values.reshape( -1)\n",
    "\n",
    "\n",
    "res=linregress(x, length_y)\n",
    "\n",
    "length_lin_effect= 100*res.slope\n",
    "metrics[\"length_lin_effect\"]=length_lin_effect\n",
    "metrics[\"length_100\"]=length_y[0]\n",
    "metrics[\"length_0\"]=length_y[-1]\n",
    "metrics[\"length_ave\"]=np.mean(length_y)\n",
    "\n"
   ]
  },
  {
   "cell_type": "code",
   "execution_count": 12,
   "metadata": {},
   "outputs": [
    {
     "name": "stdout",
     "output_type": "stream",
     "text": [
      "   example_comet  beam_num                    task_name  \\\n",
      "0       0.865341         1  wmt_14_language_pair_de_en_   \n",
      "\n",
      "                              model  example_idx  rank                 suite  \\\n",
      "0  meta_llama_Llama_3.1_8B_Instruct            0   100  sample_100_eval_1000   \n",
      "\n",
      "   instanceID                                               text  \\\n",
      "0           0  He advised the parents of a boy whose penis ha...   \n",
      "\n",
      "   completion_length  output_logprob isCompletion  \n",
      "0                178       -8.308031         True  \n"
     ]
    }
   ],
   "source": [
    "print(df.head(1))"
   ]
  },
  {
   "cell_type": "code",
   "execution_count": 14,
   "metadata": {},
   "outputs": [
    {
     "name": "stdout",
     "output_type": "stream",
     "text": [
      "-60.284106226147934\n"
     ]
    }
   ],
   "source": [
    "metrics[\"entropy\"]=float(df[\"output_logprob\"].mean())\n"
   ]
  }
 ],
 "metadata": {
  "kernelspec": {
   "display_name": "crfm-helm2",
   "language": "python",
   "name": "python3"
  },
  "language_info": {
   "codemirror_mode": {
    "name": "ipython",
    "version": 3
   },
   "file_extension": ".py",
   "mimetype": "text/x-python",
   "name": "python",
   "nbconvert_exporter": "python",
   "pygments_lexer": "ipython3",
   "version": "3.9.18"
  }
 },
 "nbformat": 4,
 "nbformat_minor": 2
}
