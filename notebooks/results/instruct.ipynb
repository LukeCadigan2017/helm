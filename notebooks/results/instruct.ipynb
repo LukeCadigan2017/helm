{
 "cells": [
  {
   "cell_type": "code",
   "execution_count": 1,
   "metadata": {},
   "outputs": [
    {
     "name": "stderr",
     "output_type": "stream",
     "text": [
      "/opt/miniconda3/envs/crfm-helm2/lib/python3.9/site-packages/tqdm/auto.py:21: TqdmWarning: IProgress not found. Please update jupyter and ipywidgets. See https://ipywidgets.readthedocs.io/en/stable/user_install.html\n",
      "  from .autonotebook import tqdm as notebook_tqdm\n",
      "PyTorch version 2.6.0 available.\n"
     ]
    },
    {
     "name": "stdout",
     "output_type": "stream",
     "text": [
      "Init: process_gens_mode ['instruct']\n",
      "\n",
      "\n",
      "----------------\n",
      " NOTE: ONLY PRINTING 4 tasks ----------------\n",
      "\n",
      "calculate_gen_summary_dict\n",
      "get_metrics_dict\n",
      "Index(['example_themis', 'beam_num', 'task_name', 'model', 'example_idx',\n",
      "       'suite', 'instanceID', 'text', 'completion_length', 'output_logprob',\n",
      "       'isCompletion'],\n",
      "      dtype='object')\n",
      "Num examples: 18000\n",
      "Num completions: 180\n"
     ]
    }
   ],
   "source": [
    "\n",
    "\n",
    "import pandas as pd\n",
    "from helm.benchmark.runner import InstanceGenerations,GenerationSummary\n",
    "from typing import Any, List\n",
    "import json\n",
    "from helm.common.request import (GeneratedOutput, Token)\n",
    "\n",
    "import PostMetric\n",
    "import pandas as pd\n",
    "\n",
    "from helm.benchmark.metrics.statistic import Stat\n",
    "from typing import Dict, Optional\n",
    "\n",
    "from helm.benchmark.augmentations.perturbation_description import (\n",
    "    PerturbationDescription)\n",
    "from dataclasses import dataclass\n",
    "from process_gens import *\n",
    "from process_gen_utils import *\n",
    "\n",
    "\n",
    "\n",
    "processGens=ProcessGens()\n",
    "\n",
    "process_gen_modes=[\"instruct\"]\n",
    "\n",
    "\n",
    "\n",
    "do_norm_analysis=True\n",
    "processGens.init_with_mode(process_gen_modes)\n",
    "root_folder, num_beams_list, models, custom_metrics, task_names, suite_name, instance_metrics, compare_metric = processGens.get_params()\n",
    "examples_df, completions_df=get_dfs(processGens)\n",
    "\n",
    "#self-instruct and vicuna\n",
    "\n",
    "dfs_by_model={}\n",
    "\n",
    "for model_name in examples_df['model'].unique():\n",
    "    filtered_df = examples_df[examples_df[\"model\"]==model_name]\n",
    "    dfs_by_model[model_name]=filtered_df\n",
    "\n",
    "all_dfs_by_model=dfs_by_model\n",
    "# if(len(models)>1):\n",
    "    # all_dfs_by_model[\"all_models\"]=examples_df"
   ]
  },
  {
   "cell_type": "code",
   "execution_count": 2,
   "metadata": {},
   "outputs": [
    {
     "name": "stdout",
     "output_type": "stream",
     "text": [
      "\t root_folder: snellius_copies/helm_output \n",
      " \t num_beams_list [1] \n",
      " \t models: ['allenai_OLMo_2_1124_13B_Instruct'] \n",
      " \t custom_metrics[]\n",
      " \t task_names ['self_instruct_num_respondents_1_', 'vicuna_num_respondents_1_'] \n",
      " \t suite_name sample_100_eval_100_first_inst_0 \n",
      " \t instance_metrics []\n",
      "   example_themis  beam_num                         task_name  \\\n",
      "0               5         1  self_instruct_num_respondents_1_   \n",
      "1               5         1  self_instruct_num_respondents_1_   \n",
      "\n",
      "                              model  example_idx  \\\n",
      "0  allenai_OLMo_2_1124_13B_Instruct            0   \n",
      "1  allenai_OLMo_2_1124_13B_Instruct            1   \n",
      "\n",
      "                              suite  instanceID           text  \\\n",
      "0  sample_100_eval_100_first_inst_0           0  not offensive   \n",
      "1  sample_100_eval_100_first_inst_0           0  not offensive   \n",
      "\n",
      "   completion_length  output_logprob isCompletion  \n",
      "0                 13       -0.986877         True  \n",
      "1                 13       -0.986877         None  \n",
      "num examples 18000\n",
      "num_completions 180\n",
      "compare_metric mean:  example_themis    3.350333\n",
      "dtype: float64\n"
     ]
    }
   ],
   "source": [
    "print(f\"\\t root_folder: {root_folder} \\n \\t num_beams_list {num_beams_list} \\n \\t models: {models} \\n \\t custom_metrics{[metric.name() for metric in custom_metrics]}\"+ \n",
    "    f\"\\n \\t task_names {task_names} \\n \\t suite_name {suite_name} \\n \\t instance_metrics {instance_metrics}\")\n",
    "# instanceGeneration=get_first(processGens.first_run_instances)\n",
    "print(examples_df.head(2))\n",
    "print(\"num examples\" ,len(examples_df))\n",
    "print(\"num_completions\", len(completions_df))\n",
    "print(f\"compare_metric mean: \",examples_df[[compare_metric]].mean())\n",
    "#current belief: for each run_folder combo, there will be 100 instances and 100 examples per instance"
   ]
  },
  {
   "cell_type": "code",
   "execution_count": 4,
   "metadata": {},
   "outputs": [
    {
     "data": {
      "text/plain": [
       "[<matplotlib.lines.Line2D at 0x30f65d040>]"
      ]
     },
     "execution_count": 4,
     "metadata": {},
     "output_type": "execute_result"
    },
    {
     "data": {
      "image/png": "[encoded data removed]",
      "text/plain": [
       "<Figure size 640x480 with 1 Axes>"
      ]
     },
     "metadata": {},
     "output_type": "display_data"
    }
   ],
   "source": [
    "\n",
    "df=next(iter(dfs_by_model.values()))\n",
    "df[\"rank\"]=100-df[\"example_idx\"]\n",
    "max_example_idx = examples_df[\"example_idx\"].max()\n",
    "plots_wide=1\n",
    "num_models=len(dfs_by_model.keys())\n",
    "plots_tall=math.ceil(num_models/plots_wide)\n",
    "\n",
    "suptitle=\"\"\n",
    "axs=None\n",
    "fig=None\n",
    "xlabel=\"rank\"\n",
    "ylabel=compare_metric\n",
    "groupby=\"rank\"\n",
    "\n",
    "\n",
    "grouped = df[[xlabel, ylabel]].groupby(groupby).mean().reset_index()\n",
    "x=grouped[xlabel]\n",
    "y=grouped[ylabel]\n",
    "\n",
    "fig, ax = plt.subplots()\n",
    "\n",
    "ax.plot(x, y)\n",
    "\n"
   ]
  },
  {
   "cell_type": "code",
   "execution_count": 4,
   "metadata": {},
   "outputs": [
    {
     "name": "stdout",
     "output_type": "stream",
     "text": [
      "{'percent_effected': np.float64(0.14), 'win_rate': np.float64(0.5205), 'average_diff_norm': np.float64(0.015042813671901004), 'effect_diff_norm': np.float64(0.07155627229668524), 'effect_size_norm': np.float64(0.02948391479692597)}\n"
     ]
    }
   ],
   "source": [
    "#first: I calculate win rates\n",
    "\n",
    "def get_iom_metrics_dict(df,compare_metric,ax=None):\n",
    "    # plot_grouped(df, xlabel, ylabel, groupby='example_idx', title=None, trend_line=\"None\",ax=None, nbins=20):\n",
    "    # grouped = df.groupby(\"example_idx\")[[xlabel, ylabel]].agg(['mean', 'count', 'std'])\n",
    "\n",
    "    max_example_idx = df[\"example_idx\"].max()\n",
    "    num_ranks=max_example_idx+1\n",
    "    # pivoted = df.pivot(columns='example_idx', values=compare_metric )\n",
    "    # pivoted_mean=pivoted.mean()\n",
    "    pivoted = df.pivot(index=\"instanceID\",columns=\"example_idx\", values=compare_metric )\n",
    "    # print(pivoted.head(2))\n",
    "    mean_pivoted=pivoted.mean()\n",
    "    ave_val=mean_pivoted.mean()\n",
    "\n",
    "    # pivoted_x = df.pivot(columns=\"example_idx\", values=\"output_logprob\").mean()\n",
    "    \n",
    "    best_rank = mean_pivoted.idxmax()\n",
    "    ranks_effected=best_rank\n",
    "    percent_effected=ranks_effected / num_ranks\n",
    "    score_diff=0\n",
    "\n",
    "    win_rate_by_col=[-1]*(best_rank+1)\n",
    "    for compare_rank in range(best_rank+1):\n",
    "        win_rate_col_name=f\"win_rate_{compare_rank}\"\n",
    "        pivoted[win_rate_col_name] = pivoted.apply( lambda row: get_win_rate(row,compare_rank, best_rank) , axis=1)\n",
    "        win_rate_by_col[compare_rank] = pivoted[win_rate_col_name].mean()\n",
    "\n",
    "    win_rate=win_rate_by_col[0]\n",
    "    # print(\"win_rate_by_col\",win_rate_by_col)\n",
    "\n",
    "    for compare_rank in range(best_rank):\n",
    "        score_diff+= mean_pivoted[best_rank]-mean_pivoted[compare_rank]\n",
    "    \n",
    "\n",
    "    effect_size=score_diff*percent_effected\n",
    "    average_diff=score_diff/ranks_effected\n",
    "    effect_diff=mean_pivoted[best_rank]-mean_pivoted[0]\n",
    "\n",
    "    average_diff_norm=average_diff/ave_val\n",
    "    effect_diff_norm=effect_diff/ave_val\n",
    "    effect_size_norm=effect_size /ave_val\n",
    "\n",
    "    return {\n",
    "        # \"effect_size\": effect_size,\n",
    "        # \"average_diff\": average_diff,\n",
    "        # \"effect_diff\": effect_diff,\n",
    "        \"percent_effected\":percent_effected,\n",
    "        \"win_rate\":win_rate,\n",
    "\n",
    "        \"average_diff_norm\":average_diff_norm,\n",
    "        \"effect_diff_norm\":effect_diff_norm,\n",
    "        \"effect_size_norm\":effect_size_norm\n",
    "    }\n",
    "\n",
    "\n",
    "\n",
    "iom_metrics_dict_by_model={}\n",
    "for idx, (model_name, filtered_df) in enumerate(dfs_by_model.items()):\n",
    "    # print(model_name)\n",
    "    iom_metrics_dict_by_model[model_name]=get_iom_metrics_dict(filtered_df, compare_metric=compare_metric)\n",
    "    print(iom_metrics_dict_by_model[model_name])\n",
    "\n",
    "\n",
    "\n",
    "\n",
    "# 14% effected, \n",
    "\n",
    "\n",
    "\n",
    "\n",
    "\n",
    "\n",
    "    \n"
   ]
  },
  {
   "cell_type": "code",
   "execution_count": 5,
   "metadata": {},
   "outputs": [
    {
     "name": "stdout",
     "output_type": "stream",
     "text": [
      "{'meta_llama_Llama_3.1_8B_Instruct': {'percent_effected': np.float64(0.14), 'win_rate': np.float64(0.5205), 'average_diff_norm': np.float64(0.015042813671901004), 'effect_diff_norm': np.float64(0.07155627229668524), 'effect_size_norm': np.float64(0.02948391479692597)}}\n"
     ]
    }
   ],
   "source": [
    "print(iom_metrics_dict_by_model)"
   ]
  },
  {
   "cell_type": "code",
   "execution_count": 6,
   "metadata": {},
   "outputs": [
    {
     "name": "stdout",
     "output_type": "stream",
     "text": [
      "dict_keys(['llama'])\n",
      "{'meta_llama_Llama_3.1_8B_Instruct': {'percent_effected': np.float64(0.14), 'win_rate': np.float64(0.5205), 'average_diff_norm': np.float64(0.015042813671901004), 'effect_diff_norm': np.float64(0.07155627229668524), 'effect_size_norm': np.float64(0.02948391479692597)}}\n"
     ]
    }
   ],
   "source": [
    "#Here is current goal:\n",
    "\n",
    "#each metric gets a graph\n",
    "#each suite gets a line\n",
    "#x axis is model size\n",
    "#y axis is metric\n",
    "\n",
    "\n",
    "\n",
    "def append_to_dict(dict, key_list, value):\n",
    "    cur_key=key_list[0]\n",
    "    \n",
    "    #make sure it exists\n",
    "    if cur_key not in dict.keys():\n",
    "        dict[cur_key]={}\n",
    "\n",
    "    #append recursively if not\n",
    "    if(len(key_list)>1):\n",
    "        append_to_dict(dict[cur_key], key_list[1:], value)\n",
    "    else:\n",
    "        dict[cur_key]=value\n",
    "\n",
    "\n",
    "iom_metrics_dict_by_properties={}\n",
    "\n",
    "for (model_name, iom_metrics_dict) in iom_metrics_dict_by_model.items():\n",
    "    model_details = get_model_details(model_name)\n",
    "\n",
    "    append_to_dict(iom_metrics_dict_by_properties, [ model_details[\"suite\"], model_details[\"model_type\"],  model_details[\"size\"] ], iom_metrics_dict)\n",
    "\n",
    "print(iom_metrics_dict_by_properties.keys())\n",
    "\n",
    "\n",
    "\n",
    "    \n",
    "print(iom_metrics_dict_by_model)\n",
    "#plot by model size\n",
    "# iom_metric_keys=next(iter(iom_metrics_dict_by_model.values())).keys()\n",
    "# for iom_metric in iom_metric_keys: \n",
    "#     fig, ax = plt.subplots()\n",
    "#     for suite in iom_metrics_dict_by_properties.keys():\n",
    "#         for model_type in iom_metrics_dict_by_properties[suite].keys():\n",
    "#             x=[]\n",
    "#             y=[]\n",
    "#             for size in iom_metrics_dict_by_properties[suite][model_type].keys():\n",
    "#                 value=iom_metrics_dict_by_properties[suite][model_type][size][iom_metric]\n",
    "#                 x.append(size)\n",
    "#                 y.append(value)\n",
    "#             ax.scatter(x,y, label=suite)\n",
    "#     ax.set_xlabel('model size')\n",
    "#     ax.set_ylabel(iom_metric)\n",
    "#     ax.legend()\n",
    "#     fig.show()\n",
    "\n",
    "#plot by model strength\n",
    "# for iom_metric in iom_metric_keys: \n",
    "#     # print(\"iom_metric\")\n",
    "#     fig, ax = plt.subplots()\n",
    "#     x=[]\n",
    "#     y=[]\n",
    "#     for (model_name, iom_metrics_dict) in iom_metrics_dict_by_model.items():\n",
    "#         filtered_df=dfs_by_model[model_name]\n",
    "#         ave_vale=filtered_df[compare_metric].mean()\n",
    "#         x.append(ave_vale)\n",
    "#         y.append(iom_metrics_dict[iom_metric])\n",
    "#     ax.scatter(x,y)\n",
    "#     ax.set_xlabel(\"Average \"+str(compare_metric))\n",
    "#     ax.set_ylabel(iom_metric)\n",
    "#     ax.legend()\n",
    "#     #fig.show()\n",
    "\n",
    "\n",
    "\n"
   ]
  },
  {
   "cell_type": "code",
   "execution_count": 7,
   "metadata": {},
   "outputs": [
    {
     "name": "stdout",
     "output_type": "stream",
     "text": [
      "213\n",
      "213\n",
      "246\n",
      "246\n"
     ]
    },
    {
     "data": {
      "image/png": "[encoded data removed]",
      "text/plain": [
       "<Figure size 640x480 with 1 Axes>"
      ]
     },
     "metadata": {},
     "output_type": "display_data"
    }
   ],
   "source": [
    "#ok, I only want to keep columns where the rank is 14 or 0\n",
    "df = filtered_df\n",
    "max_example_idx = df[\"example_idx\"].max()\n",
    "num_ranks=max_example_idx+1\n",
    "pivoted = df.pivot(index=\"instanceID\",columns=\"example_idx\", values=compare_metric )\n",
    "mean_pivoted=pivoted.mean()\n",
    "ave_val=mean_pivoted.mean()\n",
    "best_rank = mean_pivoted.idxmax()\n",
    "\n",
    "best_and_first=filtered_df[ filtered_df['example_idx'].isin([0, best_rank])]\n",
    "\n",
    "cols_to_keep=[\"example_comet\", \"example_idx\", \"output_logprob\", \"completion_length\"]\n",
    "best_and_first=best_and_first[[\"example_comet\", \"example_idx\", \"output_logprob\", \"completion_length\"]]\n",
    "\n",
    "best_and_first_grouped=best_and_first.groupby([\"completion_length\", \"example_idx\"]).mean().reset_index()\n",
    "\n",
    "_, ax = plt.subplots()\n",
    "\n",
    "\n",
    "# #we want to see, for each completion length, the average metric score\n",
    "# #we will do this for both ranks, 0 and 14\n",
    "\n",
    "for rank in [0, best_rank]:\n",
    "    cur_df=best_and_first_grouped[best_and_first_grouped[\"example_idx\"]==rank]\n",
    "    x=cur_df[\"completion_length\"]\n",
    "    y=cur_df[\"example_comet\"]\n",
    "    print(len(x))\n",
    "    print(len(y))\n",
    "    ax.scatter(x,y, label=rank)\n",
    "    ax.legend()\n",
    "\n",
    "\n"
   ]
  },
  {
   "cell_type": "code",
   "execution_count": 8,
   "metadata": {},
   "outputs": [],
   "source": [
    "filtered_df[\"logprob_per_length\"]=filtered_df[\"output_logprob\"]/ filtered_df[\"completion_length\"]\n",
    "\n",
    "filtered_df['rank2'] = filtered_df.groupby('instanceID')['logprob_per_length'].rank(method='first', ascending=True) - 1\n",
    "filtered_df['rank2'] = filtered_df['rank2'].astype(int)\n",
    "\n"
   ]
  },
  {
   "cell_type": "code",
   "execution_count": 9,
   "metadata": {},
   "outputs": [
    {
     "data": {
      "image/png": "[encoded data removed]",
      "text/plain": [
       "<Figure size 640x480 with 1 Axes>"
      ]
     },
     "metadata": {},
     "output_type": "display_data"
    }
   ],
   "source": [
    "plot_grouped(filtered_df, \"output_logprob\", compare_metric, groupby='rank2', title=None, trend_line=\"None\",ax=None)"
   ]
  },
  {
   "cell_type": "code",
   "execution_count": 12,
   "metadata": {},
   "outputs": [
    {
     "name": "stdout",
     "output_type": "stream",
     "text": [
      "                            OLS Regression Results                            \n",
      "==============================================================================\n",
      "Dep. Variable:          example_comet   R-squared:                       0.160\n",
      "Model:                            OLS   Adj. R-squared:                  0.159\n",
      "Method:                 Least Squares   F-statistic:                     189.7\n",
      "Date:                Thu, 19 Jun 2025   Prob (F-statistic):           3.68e-76\n",
      "Time:                        16:36:55   Log-Likelihood:                 848.60\n",
      "No. Observations:                2000   AIC:                            -1691.\n",
      "Df Residuals:                    1997   BIC:                            -1674.\n",
      "Df Model:                           2                                         \n",
      "Covariance Type:            nonrobust                                         \n",
      "=====================================================================================\n",
      "                        coef    std err          t      P>|t|      [0.025      0.975]\n",
      "-------------------------------------------------------------------------------------\n",
      "const                 0.6936      0.008     86.990      0.000       0.678       0.709\n",
      "completion_length     0.0011   5.97e-05     17.962      0.000       0.001       0.001\n",
      "is_completion        -0.0279      0.007     -3.864      0.000      -0.042      -0.014\n",
      "==============================================================================\n",
      "Omnibus:                      208.651   Durbin-Watson:                   1.359\n",
      "Prob(Omnibus):                  0.000   Jarque-Bera (JB):              276.699\n",
      "Skew:                          -0.903   Prob(JB):                     8.23e-61\n",
      "Kurtosis:                       3.236   Cond. No.                         298.\n",
      "==============================================================================\n",
      "\n",
      "Notes:\n",
      "[1] Standard Errors assume that the covariance matrix of the errors is correctly specified.\n"
     ]
    }
   ],
   "source": [
    "#ok, we just want to predict\n",
    "#example metric using length and rank\n",
    "\n",
    "import statsmodels.api as sm\n",
    "best_and_first[\"is_completion\"]=(best_and_first[\"example_idx\"]==0).astype(int)\n",
    "\n",
    "X = best_and_first[['completion_length', 'is_completion']]\n",
    "X = sm.add_constant(X) \n",
    "y = best_and_first['example_comet']\n",
    "\n",
    "model = sm.OLS(y, X).fit()\n",
    "\n",
    "print(model.summary())\n",
    "\n",
    "#so, ideally is_completion should be negatively correlated with example_comet\n"
   ]
  },
  {
   "cell_type": "code",
   "execution_count": 14,
   "metadata": {},
   "outputs": [
    {
     "name": "stdout",
     "output_type": "stream",
     "text": [
      "                            OLS Regression Results                            \n",
      "==============================================================================\n",
      "Dep. Variable:          example_comet   R-squared:                       0.137\n",
      "Model:                            OLS   Adj. R-squared:                  0.137\n",
      "Method:                 Least Squares   F-statistic:                     7937.\n",
      "Date:                Thu, 19 Jun 2025   Prob (F-statistic):               0.00\n",
      "Time:                        16:43:10   Log-Likelihood:                 42406.\n",
      "No. Observations:              100000   AIC:                        -8.481e+04\n",
      "Df Residuals:                   99997   BIC:                        -8.478e+04\n",
      "Df Model:                           2                                         \n",
      "Covariance Type:            nonrobust                                         \n",
      "=====================================================================================\n",
      "                        coef    std err          t      P>|t|      [0.025      0.975]\n",
      "-------------------------------------------------------------------------------------\n",
      "const                 0.7243      0.001    788.110      0.000       0.723       0.726\n",
      "completion_length     0.0006   7.43e-06     76.760      0.000       0.001       0.001\n",
      "output_logprob        0.0006   5.49e-06    116.611      0.000       0.001       0.001\n",
      "==============================================================================\n",
      "Omnibus:                     9371.518   Durbin-Watson:                   1.284\n",
      "Prob(Omnibus):                  0.000   Jarque-Bera (JB):            12294.150\n",
      "Skew:                          -0.813   Prob(JB):                         0.00\n",
      "Kurtosis:                       3.554   Cond. No.                         277.\n",
      "==============================================================================\n",
      "\n",
      "Notes:\n",
      "[1] Standard Errors assume that the covariance matrix of the errors is correctly specified.\n"
     ]
    }
   ],
   "source": [
    "\n",
    "\n",
    "X = filtered_df[['completion_length', 'output_logprob']]\n",
    "X = sm.add_constant(X) \n",
    "y = filtered_df['example_comet']\n",
    "\n",
    "model = sm.OLS(y, X).fit()\n",
    "\n",
    "print(model.summary())"
   ]
  }
 ],
 "metadata": {
  "kernelspec": {
   "display_name": "crfm-helm2",
   "language": "python",
   "name": "python3"
  },
  "language_info": {
   "codemirror_mode": {
    "name": "ipython",
    "version": 3
   },
   "file_extension": ".py",
   "mimetype": "text/x-python",
   "name": "python",
   "nbconvert_exporter": "python",
   "pygments_lexer": "ipython3",
   "version": "3.9.18"
  }
 },
 "nbformat": 4,
 "nbformat_minor": 2
}
