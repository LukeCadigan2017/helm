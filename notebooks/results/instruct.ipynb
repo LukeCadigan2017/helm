{
 "cells": [
  {
   "cell_type": "code",
   "execution_count": 1,
   "metadata": {},
   "outputs": [
    {
     "name": "stderr",
     "output_type": "stream",
     "text": [
      "/opt/miniconda3/envs/crfm-helm2/lib/python3.9/site-packages/tqdm/auto.py:21: TqdmWarning: IProgress not found. Please update jupyter and ipywidgets. See https://ipywidgets.readthedocs.io/en/stable/user_install.html\n",
      "  from .autonotebook import tqdm as notebook_tqdm\n",
      "PyTorch version 2.6.0 available.\n"
     ]
    },
    {
     "name": "stdout",
     "output_type": "stream",
     "text": [
      "Init: process_gens_mode ['instruct']\n",
      "\n",
      "\n",
      "----------------\n",
      " NOTE: ONLY PRINTING 4 tasks ----------------\n",
      "\n",
      "calculate_gen_summary_dict\n",
      "snellius_copies/helm_output/sample_100_eval_100_first_inst_0/self_instruct_num_respondents_1_/Qwen_Qwen3_8B/1_beams/runs/sample_100_eval_100_first_inst_0\n",
      "snellius_copies/helm_output/sample_100_eval_100_first_inst_0/anthropic_hh_rlhf_subset_hh_num_respondents_1_/Qwen_Qwen3_8B/1_beams/runs/sample_100_eval_100_first_inst_0\n",
      "snellius_copies/helm_output/sample_100_eval_100_first_inst_0/vicuna_num_respondents_1_/Qwen_Qwen3_8B/1_beams/runs/sample_100_eval_100_first_inst_0\n",
      "snellius_copies/helm_output/sample_100_eval_100_first_inst_0/koala_num_respondents_1_/Qwen_Qwen3_8B/1_beams/runs/sample_100_eval_100_first_inst_0\n",
      "snellius_copies/helm_output/sample_100_eval_100_first_inst_0/anthropic_hh_rlhf_subset_red_team_num_respondents_1_/Qwen_Qwen3_8B/1_beams/runs/sample_100_eval_100_first_inst_0\n",
      "snellius_copies/helm_output/sample_100_eval_100_first_inst_0/grammar_path_src_helm_benchmark_scenarios_best_chatgpt_prompts.yaml_tags_num_respondents_1_/Qwen_Qwen3_8B/1_beams/runs/sample_100_eval_100_first_inst_0\n",
      "get_metrics_dict\n",
      "Index(['example_themis', 'beam_num', 'task_name', 'model', 'example_idx',\n",
      "       'rank', 'suite', 'instanceID', 'text', 'completion_length',\n",
      "       'output_logprob', 'isCompletion'],\n",
      "      dtype='object')\n",
      "Num examples: 58000\n",
      "Num completions: 580\n"
     ]
    }
   ],
   "source": [
    "\n",
    "\n",
    "import pandas as pd\n",
    "from helm.benchmark.runner import InstanceGenerations,GenerationSummary\n",
    "from typing import Any, List\n",
    "import json\n",
    "from helm.common.request import (GeneratedOutput, Token)\n",
    "\n",
    "import PostMetric\n",
    "import pandas as pd\n",
    "\n",
    "from helm.benchmark.metrics.statistic import Stat\n",
    "from typing import Dict, Optional\n",
    "\n",
    "from helm.benchmark.augmentations.perturbation_description import (\n",
    "    PerturbationDescription)\n",
    "from dataclasses import dataclass\n",
    "from process_gens import *\n",
    "from process_gen_utils import *\n",
    "\n",
    "\n",
    "\n",
    "processGens=ProcessGens()\n",
    "\n",
    "process_gen_modes=[\"instruct\"]\n",
    "\n",
    "\n",
    "\n",
    "do_norm_analysis=True\n",
    "processGens.init_with_mode(process_gen_modes)\n",
    "root_folder, num_beams_list, models, custom_metrics, task_names, suite_name, instance_metrics, compare_metric = processGens.get_params()\n",
    "examples_df, completions_df=get_dfs(processGens)\n",
    "\n",
    "#self-instruct and vicuna\n",
    "\n",
    "dfs_by_model={}\n",
    "\n",
    "for model_name in examples_df['model'].unique():\n",
    "    filtered_df = examples_df[examples_df[\"model\"]==model_name]\n",
    "    dfs_by_model[model_name]=filtered_df\n",
    "\n",
    "all_dfs_by_model=dfs_by_model\n",
    "# if(len(models)>1):\n",
    "    # all_dfs_by_model[\"all_models\"]=examples_df"
   ]
  },
  {
   "cell_type": "code",
   "execution_count": 2,
   "metadata": {},
   "outputs": [
    {
     "name": "stdout",
     "output_type": "stream",
     "text": [
      "\t root_folder: snellius_copies/helm_output \n",
      " \t num_beams_list [1] \n",
      " \t models: ['Qwen_Qwen3_8B'] \n",
      " \t custom_metrics[]\n",
      " \t task_names ['self_instruct_num_respondents_1_', 'anthropic_hh_rlhf_subset_hh_num_respondents_1_', 'vicuna_num_respondents_1_', 'koala_num_respondents_1_', 'anthropic_hh_rlhf_subset_red_team_num_respondents_1_', 'grammar_path_src_helm_benchmark_scenarios_best_chatgpt_prompts.yaml_tags_num_respondents_1_'] \n",
      " \t suite_name sample_100_eval_100_first_inst_0 \n",
      " \t instance_metrics []\n",
      "   example_themis  beam_num                         task_name          model  \\\n",
      "0              -1         1  self_instruct_num_respondents_1_  Qwen_Qwen3_8B   \n",
      "1              -1         1  self_instruct_num_respondents_1_  Qwen_Qwen3_8B   \n",
      "\n",
      "   example_idx  rank                             suite  instanceID       text  \\\n",
      "0            0   100  sample_100_eval_100_first_inst_0           0  offensive   \n",
      "1            1    99  sample_100_eval_100_first_inst_0           0  offensive   \n",
      "\n",
      "   completion_length  output_logprob isCompletion  \n",
      "0                  9       -0.137071         True  \n",
      "1                  9       -0.137071         None  \n",
      "num examples 58000\n",
      "num_completions 580\n",
      "compare_metric mean:  example_themis    4.183672\n",
      "dtype: float64\n"
     ]
    }
   ],
   "source": [
    "print(f\"\\t root_folder: {root_folder} \\n \\t num_beams_list {num_beams_list} \\n \\t models: {models} \\n \\t custom_metrics{[metric.name() for metric in custom_metrics]}\"+ \n",
    "    f\"\\n \\t task_names {task_names} \\n \\t suite_name {suite_name} \\n \\t instance_metrics {instance_metrics}\")\n",
    "# instanceGeneration=get_first(processGens.first_run_instances)\n",
    "print(examples_df.head(2))\n",
    "print(\"num examples\" ,len(examples_df))\n",
    "print(\"num_completions\", len(completions_df))\n",
    "print(f\"compare_metric mean: \",examples_df[[compare_metric]].mean())\n",
    "#current belief: for each run_folder combo, there will be 100 instances and 100 examples per instance"
   ]
  },
  {
   "cell_type": "code",
   "execution_count": 6,
   "metadata": {},
   "outputs": [
    {
     "data": {
      "text/plain": [
       "Text(0.5, 1.0, 'Qwen 8B')"
      ]
     },
     "execution_count": 6,
     "metadata": {},
     "output_type": "execute_result"
    },
    {
     "data": {
      "image/png": "[encoded data removed]",
      "text/plain": [
       "<Figure size 640x480 with 1 Axes>"
      ]
     },
     "metadata": {},
     "output_type": "display_data"
    }
   ],
   "source": [
    "df=examples_df\n",
    "\n",
    "df[\"rank\"]=100-df[\"example_idx\"]\n",
    "max_example_idx = examples_df[\"example_idx\"].max()\n",
    "plots_wide=1\n",
    "num_models=len(dfs_by_model.keys())\n",
    "plots_tall=math.ceil(num_models/plots_wide)\n",
    "\n",
    "suptitle=\"\"\n",
    "axs=None\n",
    "fig=None\n",
    "xlabel=\"rank\"\n",
    "ylabel=compare_metric\n",
    "groupby=\"rank\"\n",
    "\n",
    "\n",
    "grouped = df[[xlabel, ylabel]].groupby(groupby).mean().reset_index()\n",
    "x=grouped[xlabel]\n",
    "y=grouped[ylabel]\n",
    "\n",
    "fig, ax = plt.subplots()\n",
    "\n",
    "ax.scatter(x, y)\n",
    "ax.set_ylabel(\"Themis\")\n",
    "ax.set_xlabel(\"Rank\")\n",
    "ax.set_title(\"Qwen 8B\")\n",
    "\n"
   ]
  }
 ],
 "metadata": {
  "kernelspec": {
   "display_name": "crfm-helm2",
   "language": "python",
   "name": "python3"
  },
  "language_info": {
   "codemirror_mode": {
    "name": "ipython",
    "version": 3
   },
   "file_extension": ".py",
   "mimetype": "text/x-python",
   "name": "python",
   "nbconvert_exporter": "python",
   "pygments_lexer": "ipython3",
   "version": "3.9.18"
  }
 },
 "nbformat": 4,
 "nbformat_minor": 2
}
