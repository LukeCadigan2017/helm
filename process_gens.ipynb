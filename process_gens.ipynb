{
 "cells": [
  {
   "cell_type": "code",
   "execution_count": 12,
   "metadata": {},
   "outputs": [
    {
     "name": "stdout",
     "output_type": "stream",
     "text": [
      "hello\n"
     ]
    }
   ],
   "source": [
    "print(\"hello\")\n",
    "\n",
    "from helm.benchmark.runner import InstanceGenerations,GenerationSummary\n",
    "from typing import Any, List\n",
    "import json\n",
    "\n",
    "json_path=\"./helm_output/eval_1/wmt/distilbert_distilgpt2/2_beams/runs/eval_1/generation_summary.json\"\n",
    "\n",
    "\n",
    "with open(json_path,'r') as json_file:\n",
    "    generation_summary_dict=json.load(json_file)"
   ]
  },
  {
   "cell_type": "code",
   "execution_count": 13,
   "metadata": {},
   "outputs": [],
   "source": [
    "from helm.common.request import (GeneratedOutput)"
   ]
  },
  {
   "cell_type": "code",
   "execution_count": 14,
   "metadata": {},
   "outputs": [
    {
     "name": "stdout",
     "output_type": "stream",
     "text": [
      "example completion:\n",
      " The conference area consists of five modern rooms suitable for 5 - 30 persons. We are your reliable partner for conferences, family gatherings, balls, receptions and catering.<|helm_eot_id|>\n"
     ]
    }
   ],
   "source": [
    "def json_to_instance_generation(instance_dict:dict) -> InstanceGenerations:\n",
    "    instance_generation = InstanceGenerations(**instance_dict)\n",
    "    examples = [ GeneratedOutput(**generated_output_dict) for generated_output_dict in instance_generation.examples]\n",
    "    instance_generation.examples=examples\n",
    "    return instance_generation\n",
    "\n",
    "generation_summary=GenerationSummary(**generation_summary_dict)\n",
    "instance_generations = [json_to_instance_generation(instance_dict)  for instance_dict in generation_summary.instance_generations ]\n",
    "generation_summary.instance_generations=instance_generations\n",
    "print(\"example completion:\")\n",
    "print(generation_summary.instance_generations[0].examples[0].text)\n"
   ]
  },
  {
   "cell_type": "code",
   "execution_count": 15,
   "metadata": {},
   "outputs": [],
   "source": [
    "def truncate_sequence(text, all_stops=[\"<|end_of_text|>\"]):\n",
    "    for stop in all_stops:\n",
    "        try:\n",
    "            text = text[: text.index(stop)]\n",
    "        except ValueError:\n",
    "            pass\n",
    "    return text\n"
   ]
  },
  {
   "cell_type": "code",
   "execution_count": 16,
   "metadata": {},
   "outputs": [
    {
     "name": "stderr",
     "output_type": "stream",
     "text": [
      "/opt/miniconda3/envs/crfm-helm2/lib/python3.9/site-packages/tqdm/auto.py:21: TqdmWarning: IProgress not found. Please update jupyter and ipywidgets. See https://ipywidgets.readthedocs.io/en/stable/user_install.html\n",
      "  from .autonotebook import tqdm as notebook_tqdm\n"
     ]
    },
    {
     "name": "stdout",
     "output_type": "stream",
     "text": [
      "completion is The conference area consists of five modern rooms suitable for 5 - 30 persons. We are your reliable partner for conferences, family gatherings, balls, receptions and catering.<|helm_eot_id|>\n",
      "reference is  He advised the parents of a boy whose penis had been severed in a botched circumcision to have the child fully castrated, removing his testicles, as well, and to raise him as a girl.\n",
      "completion is The conference area consists of five modern rooms suitable for 5 - 30 persons. We are your reliable partner for conferences, family gatherings, balls, receptions and catering.<|helm_eot_id|>\n",
      "English: The conference area consists of five modern rooms suitable for 5 - 30 persons. We are your reliable partner for conferences, family gatherings, balls, receptions and catering.<|helm_eot_id|>\n",
      "English: The conference area consists of five modern rooms suitable for 5 -\n",
      "reference is  He advised the parents of a boy whose penis had been severed in a botched circumcision to have the child fully castrated, removing his testicles, as well, and to raise him as a girl.\n",
      "completion is iPool's user administration allows you to record and administer all your media and business partners who are to have access to your music.<|helm_eot_id|>\n",
      "English: iPool's user administration allows you to record and administer all your media and business partners who are to have access to your music.<|helm_eot_id|>\n",
      "English: iPool's user administration allows you to record and administer all your media and business partners who are to have access to your\n",
      "reference is  He advised the parents of a boy whose penis had been severed in a botched circumcision to have the child fully castrated, removing his testicles, as well, and to raise him as a girl.\n",
      "completion is iPool's user administration allows you to record and administer all your media and business partners who are to have access to your music.<|helm_eot_id|>\n",
      "reference is  He advised the parents of a boy whose penis had been severed in a botched circumcision to have the child fully castrated, removing his testicles, as well, and to raise him as a girl.\n"
     ]
    },
    {
     "name": "stderr",
     "output_type": "stream",
     "text": [
      "/opt/miniconda3/envs/crfm-helm2/lib/python3.9/site-packages/nltk/translate/bleu_score.py:577: UserWarning: \n",
      "The hypothesis contains 0 counts of 2-gram overlaps.\n",
      "Therefore the BLEU score evaluates to 0, independently of\n",
      "how many N-gram overlaps of lower order it contains.\n",
      "Consider using lower n-gram order or use SmoothingFunction()\n",
      "  warnings.warn(_msg)\n",
      "/opt/miniconda3/envs/crfm-helm2/lib/python3.9/site-packages/nltk/translate/bleu_score.py:577: UserWarning: \n",
      "The hypothesis contains 0 counts of 3-gram overlaps.\n",
      "Therefore the BLEU score evaluates to 0, independently of\n",
      "how many N-gram overlaps of lower order it contains.\n",
      "Consider using lower n-gram order or use SmoothingFunction()\n",
      "  warnings.warn(_msg)\n",
      "/opt/miniconda3/envs/crfm-helm2/lib/python3.9/site-packages/nltk/translate/bleu_score.py:577: UserWarning: \n",
      "The hypothesis contains 0 counts of 4-gram overlaps.\n",
      "Therefore the BLEU score evaluates to 0, independently of\n",
      "how many N-gram overlaps of lower order it contains.\n",
      "Consider using lower n-gram order or use SmoothingFunction()\n",
      "  warnings.warn(_msg)\n"
     ]
    }
   ],
   "source": [
    "from dataclasses import dataclass\n",
    "\n",
    "from abc import abstractmethod, ABC\n",
    "\n",
    "from helm.benchmark.metrics.evaluate_reference_metrics import bleu_4\n",
    "\n",
    "class PostMetric(ABC):\n",
    "    @property\n",
    "    @abstractmethod\n",
    "    def name(self)->str:\n",
    "        pass\n",
    "    @abstractmethod\n",
    "    def calculate_metric(self, instance_generation:InstanceGenerations,generated_output:GeneratedOutput) -> float:\n",
    "        pass\n",
    "\n",
    "class SentenceLenMetric(PostMetric):\n",
    "    @classmethod\n",
    "    def name(cls)->str:\n",
    "        return \"completion_length\"\n",
    "    @classmethod    \n",
    "    def calculate_metric(self,instance_generation:InstanceGenerations,generated_output:GeneratedOutput) -> float:\n",
    "        return len(generated_output.text)\n",
    "    \n",
    "class CompletionProbMetric(PostMetric):\n",
    "    @classmethod\n",
    "    def name(cls)->str:\n",
    "        return \"completion_logprob\"\n",
    "    @classmethod    \n",
    "    def calculate_metric(self,instance_generation:InstanceGenerations,generated_output:GeneratedOutput) -> float:\n",
    "        return generated_output.logprob\n",
    "    \n",
    "class InstanceIdMetric(PostMetric):\n",
    "    @classmethod\n",
    "    def name(cls)->str:\n",
    "        return \"instanceID\"\n",
    "    @classmethod\n",
    "    def calculate_metric(self, instance_generation:InstanceGenerations,generated_output:GeneratedOutput) -> float:\n",
    "        return instance_generation.instance_id\n",
    "\n",
    "\n",
    "class BLEU_METRIC(PostMetric):\n",
    "    @classmethod\n",
    "    def name(cls)->str:\n",
    "        return \"BLEU\"\n",
    "    @classmethod\n",
    "    def calculate_metric(self,instance_generation:InstanceGenerations,generated_output:GeneratedOutput) -> float:\n",
    "        sys=[]\n",
    "        reference = instance_generation.reference\n",
    "        completion=truncate_sequence(generated_output.text).strip()\n",
    "        print(f\"completion is {completion}\")\n",
    "        print(f\"reference is  {reference}\")\n",
    "        return bleu_4(completion,reference)\n",
    "\n",
    "\n",
    "        \n",
    "base_metrics=[SentenceLenMetric(),CompletionProbMetric(), InstanceIdMetric()]\n",
    "new_metrics = [BLEU_METRIC()]\n",
    "metrics=base_metrics+new_metrics\n",
    "\n",
    "metrics_dicts=[]\n",
    "counter=0\n",
    "for instance_generation in instance_generations:\n",
    "    for generated_output in instance_generation.examples:\n",
    "        metrics_dict={}\n",
    "        for metric in metrics:\n",
    "            metrics_dict[metric.name()] = metric.calculate_metric(instance_generation, generated_output)\n",
    "        metrics_dicts.append(metrics_dict)                "
   ]
  },
  {
   "cell_type": "code",
   "execution_count": 17,
   "metadata": {},
   "outputs": [],
   "source": [
    "import pandas as pd\n",
    "df = pd.DataFrame(metrics_dicts)"
   ]
  },
  {
   "cell_type": "code",
   "execution_count": 18,
   "metadata": {},
   "outputs": [
    {
     "name": "stdout",
     "output_type": "stream",
     "text": [
      "1.4577371022567427e-308\n",
      "Index(['completion_length', 'completion_logprob', 'instanceID', 'BLEU'], dtype='object')\n"
     ]
    }
   ],
   "source": [
    "print(df[\"BLEU\"].mean())\n",
    "print(df.keys())"
   ]
  },
  {
   "cell_type": "code",
   "execution_count": 19,
   "metadata": {},
   "outputs": [
    {
     "data": {
      "image/png": "[encoded data removed]",
      "text/plain": [
       "<Figure size 640x480 with 1 Axes>"
      ]
     },
     "metadata": {},
     "output_type": "display_data"
    }
   ],
   "source": [
    "import matplotlib.pyplot as plt\n",
    "import numpy as np\n",
    "\n",
    "def plot_keys(xlabel, ylabel):\n",
    "    x=df[xlabel]\n",
    "    y=df[ylabel]\n",
    "    plt.scatter(x,y)\n",
    "    plt.xlabel(xlabel)\n",
    "    plt.ylabel(ylabel)\n",
    "    plt.plot(np.unique(x), np.poly1d(np.polyfit(x, y, 1))(np.unique(x)))\n",
    "    plt.show()\n",
    "\n",
    "plot_keys(\"completion_logprob\",\"BLEU\")\n"
   ]
  }
 ],
 "metadata": {
  "kernelspec": {
   "display_name": "crfm-helm2",
   "language": "python",
   "name": "python3"
  },
  "language_info": {
   "codemirror_mode": {
    "name": "ipython",
    "version": 3
   },
   "file_extension": ".py",
   "mimetype": "text/x-python",
   "name": "python",
   "nbconvert_exporter": "python",
   "pygments_lexer": "ipython3",
   "version": "3.9.21"
  }
 },
 "nbformat": 4,
 "nbformat_minor": 2
}
