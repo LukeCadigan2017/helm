{
 "cells": [
  {
   "cell_type": "code",
   "execution_count": 1,
   "metadata": {},
   "outputs": [
    {
     "name": "stderr",
     "output_type": "stream",
     "text": [
      "/opt/miniconda3/envs/crfm-helm2/lib/python3.9/site-packages/tqdm/auto.py:21: TqdmWarning: IProgress not found. Please update jupyter and ipywidgets. See https://ipywidgets.readthedocs.io/en/stable/user_install.html\n",
      "  from .autonotebook import tqdm as notebook_tqdm\n",
      "PyTorch version 2.6.0 available.\n"
     ]
    }
   ],
   "source": [
    "import process_gens\n",
    "import pandas as pd\n",
    "from helm.benchmark.runner import InstanceGenerations,GenerationSummary\n",
    "from typing import Any, List\n",
    "import json\n",
    "from helm.common.request import (GeneratedOutput, Token)\n",
    "\n",
    "import PostMetric\n",
    "import pandas as pd\n",
    "\n",
    "from helm.benchmark.metrics.statistic import Stat\n",
    "from typing import Dict, Optional\n",
    "\n",
    "from helm.benchmark.augmentations.perturbation_description import (\n",
    "    PerturbationDescription)\n",
    "from dataclasses import dataclass\n",
    "from process_gens import ProcessGens\n",
    "from process_gen_utils import *"
   ]
  },
  {
   "cell_type": "code",
   "execution_count": 2,
   "metadata": {},
   "outputs": [
    {
     "ename": "TypeError",
     "evalue": "__init__() got an unexpected keyword argument 'base_folder'",
     "output_type": "error",
     "traceback": [
      "\u001b[0;31m---------------------------------------------------------------------------\u001b[0m",
      "\u001b[0;31mTypeError\u001b[0m                                 Traceback (most recent call last)",
      "Cell \u001b[0;32mIn[2], line 27\u001b[0m\n\u001b[1;32m     25\u001b[0m base_folder\u001b[38;5;241m=\u001b[39m\u001b[38;5;124mf\u001b[39m\u001b[38;5;124m\"\u001b[39m\u001b[38;5;132;01m{\u001b[39;00mroot_folder\u001b[38;5;132;01m}\u001b[39;00m\u001b[38;5;124m/eval_\u001b[39m\u001b[38;5;132;01m{\u001b[39;00meval_instances\u001b[38;5;132;01m}\u001b[39;00m\u001b[38;5;124m\"\u001b[39m\n\u001b[1;32m     26\u001b[0m custom_metrics\u001b[38;5;241m=\u001b[39m[ PostMetric\u001b[38;5;241m.\u001b[39mBLEU1_METRIC(),PostMetric\u001b[38;5;241m.\u001b[39mBLEU4_METRIC()]\n\u001b[0;32m---> 27\u001b[0m processGens\u001b[38;5;241m=\u001b[39m \u001b[43mProcessGens\u001b[49m\u001b[43m(\u001b[49m\u001b[43mbase_folder\u001b[49m\u001b[38;5;241;43m=\u001b[39;49m\u001b[43mbase_folder\u001b[49m\u001b[43m,\u001b[49m\u001b[43mnum_beams_list\u001b[49m\u001b[38;5;241;43m=\u001b[39;49m\u001b[43mnum_beams_list\u001b[49m\u001b[43m,\u001b[49m\u001b[43mmodels\u001b[49m\u001b[38;5;241;43m=\u001b[39;49m\u001b[43mmodels\u001b[49m\u001b[43m,\u001b[49m\u001b[43mcustom_metrics\u001b[49m\u001b[38;5;241;43m=\u001b[39;49m\u001b[43mcustom_metrics\u001b[49m\u001b[43m,\u001b[49m\u001b[43mtask_name\u001b[49m\u001b[38;5;241;43m=\u001b[39;49m\u001b[43mtask_name\u001b[49m\u001b[43m,\u001b[49m\u001b[43m \u001b[49m\u001b[43meval_instances\u001b[49m\u001b[38;5;241;43m=\u001b[39;49m\u001b[43meval_instances\u001b[49m\u001b[43m,\u001b[49m\u001b[43m \u001b[49m\u001b[43minstance_metrics\u001b[49m\u001b[38;5;241;43m=\u001b[39;49m\u001b[43minstance_metrics\u001b[49m\u001b[43m)\u001b[49m\n",
      "\u001b[0;31mTypeError\u001b[0m: __init__() got an unexpected keyword argument 'base_folder'"
     ]
    }
   ],
   "source": [
    "# # copied snellius test\n",
    "num_beams_list=[32, 64]\n",
    "models=[\"meta_llama_Llama_3.1_8B_Instruct\"]\n",
    "eval_instances=5\n",
    "task_name=\"wmt_14_language_pair_de_en_\"\n",
    "root_folder=f\"snellius_copies/wmt_test\"\n",
    "\n",
    "\n",
    "# #local test\n",
    "# num_beams_list=[15,20]\n",
    "# root_folder=\"helm_output\"\n",
    "# eval_instances=3\n",
    "# models=[\"distilbert_distilgpt2\"]\n",
    "\n",
    "# copied snellius run\n",
    "# num_beams_list=[2,4,8,16,32,64,128]\n",
    "# num_beams_list=[2,64]\n",
    "\n",
    "# models=[\"meta_llama_Llama_3.1_8B_Instruct\"]\n",
    "# eval_instances=1000\n",
    "# root_folder=f\"snellius_copies/full\"\n",
    "# task_name=\"wmt\"\n",
    "\n",
    "instance_metrics=[\"comet\"]\n",
    "base_folder=f\"{root_folder}/eval_{eval_instances}\"\n",
    "custom_metrics=[ PostMetric.BLEU1_METRIC(),PostMetric.BLEU4_METRIC()]\n",
    "processGens= ProcessGens(base_folder=base_folder,num_beams_list=num_beams_list,models=models,custom_metrics=custom_metrics,task_name=task_name, eval_instances=eval_instances, instance_metrics=instance_metrics)\n",
    "\n",
    "\n",
    "# code snellius_copies/wmt_test/eval_4/wmt/meta_llama_Llama_3.1_8B_Instruct/2_beams/runs/eval_4/generation_summary.json\n",
    "# code snellius_copies/wmt_test/eval_4/wmt/meta_llama_Llama_3.1_8B_Instruct/128_beams/runs/eval_4/generation_summary.json\n",
    "\n",
    "# ./wmt_test/eval_32/wmt_14_language_pair_de_en_/meta_llama_Llama_3.1_8B_Instruct/2_beams/runs/eval_32/generation_summary.json\n",
    "# ./wmt_test/eval_32/wmt_14_language_pair_de_en_/meta_llama_Llama_3.1_8B_Instruct/32_beams/runs/eval_32/generation_summary.json\n",
    "# ./wmt_test/eval_32/wmt/meta_llama_Llama_3.1_8B_Instruct/32_beams/runs/eval_32/generation_summary.json\n",
    "\n"
   ]
  },
  {
   "cell_type": "code",
   "execution_count": 34,
   "metadata": {},
   "outputs": [
    {
     "name": "stdout",
     "output_type": "stream",
     "text": [
      "id: id24245\tn_unique_text: 64\tn:64\tn_unique_probs\n",
      "id: id24703\tn_unique_text: 64\tn:64\tn_unique_probs\n",
      "id: id24769\tn_unique_text: 48\tn:64\tn_unique_probs\n",
      "id: id20395\tn_unique_text: 64\tn:64\tn_unique_probs\n",
      "id: id21293\tn_unique_text: 64\tn:64\tn_unique_probs\n"
     ]
    }
   ],
   "source": [
    "\n",
    "\n",
    "# beam_num=next(iter(processGens.beam_num_to_summary))\n",
    "# instance_generations_by_id=get_instance_generations_by_id()\n",
    "# get_beam_means()\n",
    "# get_beam_probs()\n",
    "# check_completion_logprob(beam_num)\n",
    "# check_sentence_logprob(beam_num)\n",
    "# see_overlap_per_instance_generation(num_beams_list[-1], num_instances=10)\n",
    "\n",
    "# if(processGens.metrics_df is not None):\n",
    "#     ax1 = processGens.metrics_df.plot.scatter(x='beam_num',y='comet',c='DarkBlue')\n",
    "\n",
    "last_beam=num_beams_list[-1]\n",
    "first_beam=num_beams_list[0]\n",
    "compare_beams_by_metric(analysis_df=completions_df,compare_metric='output_logprob', compare_beams=[last_beam, first_beam])\n",
    "compare_beams_by_metric(analysis_df=completions_df,compare_metric='comet', compare_beams=[last_beam, first_beam])\n",
    "plot_keys(\"completion_logprob\",\"BLEU\")\n",
    "\n",
    "\n",
    "\n",
    "\n",
    "\n"
   ]
  },
  {
   "cell_type": "code",
   "execution_count": 63,
   "metadata": {},
   "outputs": [
    {
     "ename": "NameError",
     "evalue": "name 'metric_df' is not defined",
     "output_type": "error",
     "traceback": [
      "\u001b[0;31m---------------------------------------------------------------------------\u001b[0m",
      "\u001b[0;31mNameError\u001b[0m                                 Traceback (most recent call last)",
      "Cell \u001b[0;32mIn[63], line 13\u001b[0m\n\u001b[1;32m     10\u001b[0m     plt\u001b[38;5;241m.\u001b[39mplot(np\u001b[38;5;241m.\u001b[39munique(x), np\u001b[38;5;241m.\u001b[39mpoly1d(np\u001b[38;5;241m.\u001b[39mpolyfit(x, y, \u001b[38;5;241m1\u001b[39m))(np\u001b[38;5;241m.\u001b[39munique(x)))\n\u001b[1;32m     11\u001b[0m     plt\u001b[38;5;241m.\u001b[39mshow()\n\u001b[0;32m---> 13\u001b[0m \u001b[43mplot_keys\u001b[49m\u001b[43m(\u001b[49m\u001b[38;5;124;43m\"\u001b[39;49m\u001b[38;5;124;43mcompletion_logprob\u001b[39;49m\u001b[38;5;124;43m\"\u001b[39;49m\u001b[43m,\u001b[49m\u001b[38;5;124;43m\"\u001b[39;49m\u001b[38;5;124;43mBLEU\u001b[39;49m\u001b[38;5;124;43m\"\u001b[39;49m\u001b[43m)\u001b[49m\n",
      "Cell \u001b[0;32mIn[63], line 5\u001b[0m, in \u001b[0;36mplot_keys\u001b[0;34m(xlabel, ylabel)\u001b[0m\n\u001b[1;32m      4\u001b[0m \u001b[38;5;28;01mdef\u001b[39;00m \u001b[38;5;21mplot_keys\u001b[39m(xlabel, ylabel):\n\u001b[0;32m----> 5\u001b[0m     x\u001b[38;5;241m=\u001b[39m\u001b[43mmetric_df\u001b[49m[xlabel]\n\u001b[1;32m      6\u001b[0m     y\u001b[38;5;241m=\u001b[39mdf[ylabel]\n\u001b[1;32m      7\u001b[0m     plt\u001b[38;5;241m.\u001b[39mscatter(x,y)\n",
      "\u001b[0;31mNameError\u001b[0m: name 'metric_df' is not defined"
     ]
    }
   ],
   "source": [
    "\n"
   ]
  }
 ],
 "metadata": {
  "kernelspec": {
   "display_name": "crfm-helm2",
   "language": "python",
   "name": "python3"
  },
  "language_info": {
   "codemirror_mode": {
    "name": "ipython",
    "version": 3
   },
   "file_extension": ".py",
   "mimetype": "text/x-python",
   "name": "python",
   "nbconvert_exporter": "python",
   "pygments_lexer": "ipython3",
   "version": "3.9.21"
  }
 },
 "nbformat": 4,
 "nbformat_minor": 2
}
