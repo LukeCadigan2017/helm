{
 "cells": [
  {
   "cell_type": "code",
   "execution_count": 19,
   "metadata": {},
   "outputs": [],
   "source": [
    "import os\n",
    "import os.path\n",
    "\n",
    "import shutil\n",
    "\n",
    "from pathlib import Path\n",
    "\n",
    "\n",
    "dir_path='./snellius_copies/helm_output/eval_1000/'\n",
    "\n",
    "files = [os.path.join(dirpath, filename)\n",
    "    for (dirpath, dirs, files) in os.walk(dir_path)\n",
    "    for filename in (dirs + files)]\n",
    "\n",
    "files = [file for file in files if os.path.isfile(file)]\n",
    "\n",
    "\n",
    "file=   './snellius_copies/helm_output/eval_1000/wmt/meta_llama_Llama_3.1_8B_Instruct/16_beams/runs/eval_1000/generation_summary.json'\n",
    "target=   './snellius_copies/helm_output/full_wmt_1_samples_1000_evals/wmt_14_language_pair_de_en_/meta_llama_Llama_3.1_8B_Instruct/16_beams/runs/full_wmt_1_samples_1000_evals/generation_summary.json'\n",
    "\n",
    "for file in files:\n",
    "    new_path=file\n",
    "    src=file\n",
    "    new_path=new_path.replace('eval_1000', 'full_wmt_1_samples_1000_evals')\n",
    "    new_path=new_path.replace('/wmt/', '/wmt_14_language_pair_de_en_/')\n",
    "    new_path=new_path.replace('/gsm/', '/gsm_/')\n",
    "\n",
    "    if os.path.isfile(new_path):\n",
    "        new_dir=os.path.dirname(new_path)\n",
    "        Path(new_dir).mkdir(parents=True, exist_ok=True)\n",
    "        shutil.copyfile(src, new_path)\n",
    "\n",
    "\n",
    "\n",
    "\n",
    "# os.rename(\"path/to/current/file.foo\", \"path/to/new/destination/for/file.foo\")\n",
    "\n"
   ]
  }
 ],
 "metadata": {
  "kernelspec": {
   "display_name": "crfm-helm2",
   "language": "python",
   "name": "python3"
  },
  "language_info": {
   "codemirror_mode": {
    "name": "ipython",
    "version": 3
   },
   "file_extension": ".py",
   "mimetype": "text/x-python",
   "name": "python",
   "nbconvert_exporter": "python",
   "pygments_lexer": "ipython3",
   "version": "3.9.21"
  }
 },
 "nbformat": 4,
 "nbformat_minor": 2
}
