{
 "cells": [
  {
   "cell_type": "code",
   "execution_count": 1,
   "metadata": {},
   "outputs": [
    {
     "name": "stderr",
     "output_type": "stream",
     "text": [
      "/opt/miniconda3/envs/crfm-helm2/lib/python3.9/site-packages/tqdm/auto.py:21: TqdmWarning: IProgress not found. Please update jupyter and ipywidgets. See https://ipywidgets.readthedocs.io/en/stable/user_install.html\n",
      "  from .autonotebook import tqdm as notebook_tqdm\n"
     ]
    }
   ],
   "source": [
    "import sys\n",
    "import json\n",
    "import argparse\n",
    "\n",
    "parser = argparse.ArgumentParser(\"simple_example\")\n",
    "from helm.benchmark.runner import InstanceGenerations,GenerationSummary\n",
    "from process_gens import get_gen_summary, get_run_folder\n",
    "\n",
    "import ProcessGenMetrics\n",
    "from helm.common.general import ensure_directory_exists, write, asdict_without_nones\n",
    "import os\n",
    "\n",
    "\n",
    "\n",
    "parser.add_argument(\"--model\", help=\"model used for task\", type=str)\n",
    "parser.add_argument(\"--base_folder\", help=\"model used for task\", type=str)\n",
    "parser.add_argument(\"--eval_instances\", help=\"number of instances to eval\", type=str)\n",
    "parser.add_argument(\"--task_name\", help=\"task name\", type=str)\n",
    "parser.add_argument(\"--num_beams\", help=\"number of beams\", type=str)\n",
    "parser.add_argument(\"--metric_names\", help=\"metrics in question\", type=str)\n",
    "\n",
    "args = parser.parse_args()\n",
    "\n",
    "base_folder=args.base_folder\n",
    "num_beams=args.num_beams\n",
    "model=args.model\n",
    "task_name=args.task_name\n",
    "eval_instances=args.eval_instances\n",
    "metric_names=args.metric_names\n",
    "\n",
    "\n",
    "# num_beams=32\n",
    "# model=\"meta_llama_Llama_3.1_8B_Instruct\"\n",
    "# eval_instances=5\n",
    "# task_name=\"wmt_14_language_pair_de_en_\"\n",
    "# root_folder=f\"snellius_copies/wmt_test\"\n",
    "# base_folder=f\"{root_folder}/eval_{eval_instances}\"\n",
    "# metric_names=\"test\"\n",
    "\n",
    "metric_names_list=metric_names.split(\",\")\n",
    "metrics=ProcessGenMetrics.get_metrics(metric_names_list)\n",
    "\n",
    "generation_summary=get_gen_summary(base_folder, num_beams, model, task_name, eval_instances)\n",
    "\n",
    "for instance_generation in generation_summary.instance_generations:\n",
    "    for idx,generated_output in enumerate(instance_generation.examples):\n",
    "        pd_metrics_dict= {} if generated_output.stats_dict is None else generated_output.stats_dict\n",
    "        for metric in metrics:\n",
    "            pd_metrics_dict=ProcessGenMetrics.calculate_post_metric(pd_metrics_dict,metric,instance_generation,generated_output)\n",
    "        generated_output.stats_dict=pd_metrics_dict\n",
    "\n"
   ]
  },
  {
   "cell_type": "code",
   "execution_count": 2,
   "metadata": {},
   "outputs": [
    {
     "name": "stdout",
     "output_type": "stream",
     "text": [
      "0\n",
      "Writing 555414 characters to snellius_copies/wmt_test/eval_5/wmt_14_language_pair_de_en_/meta_llama_Llama_3.1_8B_Instruct/32_beams/runs/eval_5/generation_summary_metrics.json\n",
      "snellius_copies/wmt_test/eval_5/wmt_14_language_pair_de_en_/meta_llama_Llama_3.1_8B_Instruct/32_beams/runs/eval_5/generation_summary_metrics.json\n"
     ]
    }
   ],
   "source": [
    "\n",
    "\n",
    "run_path=get_run_folder(base_folder, num_beams, model, task_name, eval_instances)\n",
    "write(\n",
    "    os.path.join(run_path, \"generation_summary_metrics.json\"),\n",
    "    json.dumps(asdict_without_nones(generation_summary),indent=2)\n",
    ")\n",
    "metric_path=os.path.join(run_path, \"generation_summary_metrics.json\")\n",
    "print(metric_path)"
   ]
  }
 ],
 "metadata": {
  "kernelspec": {
   "display_name": "crfm-helm2",
   "language": "python",
   "name": "python3"
  },
  "language_info": {
   "codemirror_mode": {
    "name": "ipython",
    "version": 3
   },
   "file_extension": ".py",
   "mimetype": "text/x-python",
   "name": "python",
   "nbconvert_exporter": "python",
   "pygments_lexer": "ipython3",
   "version": "3.9.21"
  }
 },
 "nbformat": 4,
 "nbformat_minor": 2
}
