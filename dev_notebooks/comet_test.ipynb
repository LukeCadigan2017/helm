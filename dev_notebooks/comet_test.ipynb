{
 "cells": [
  {
   "cell_type": "code",
   "execution_count": 1,
   "metadata": {},
   "outputs": [
    {
     "name": "stderr",
     "output_type": "stream",
     "text": [
      "/opt/miniconda3/envs/crfm-helm2/lib/python3.9/site-packages/tqdm/auto.py:21: TqdmWarning: IProgress not found. Please update jupyter and ipywidgets. See https://ipywidgets.readthedocs.io/en/stable/user_install.html\n",
      "  from .autonotebook import tqdm as notebook_tqdm\n",
      "Fetching 5 files: 100%|██████████| 5/5 [00:00<00:00, 30131.49it/s]\n",
      "Lightning automatically upgraded your loaded checkpoint from v1.8.3.post1 to v2.5.0.post0. To apply the upgrade to your files permanently, run `python -m pytorch_lightning.utilities.upgrade_checkpoint ../../.cache/huggingface/hub/models--Unbabel--wmt22-comet-da/snapshots/2760a223ac957f30acfb18c8aa649b01cf1d75f2/checkpoints/model.ckpt`\n",
      "Encoder model frozen.\n",
      "/opt/miniconda3/envs/crfm-helm2/lib/python3.9/site-packages/pytorch_lightning/core/saving.py:195: Found keys that are not in the model state dict but in the checkpoint: ['encoder.model.embeddings.position_ids']\n",
      "GPU available: True (mps), used: True\n",
      "TPU available: False, using: 0 TPU cores\n",
      "HPU available: False, using: 0 HPUs\n",
      "Predicting: 0it [00:00, ?it/s]huggingface/tokenizers: The current process just got forked, after parallelism has already been used. Disabling parallelism to avoid deadlocks...\n",
      "To disable this warning, you can either:\n",
      "\t- Avoid using `tokenizers` before the fork if possible\n",
      "\t- Explicitly set the environment variable TOKENIZERS_PARALLELISM=(true | false)\n",
      "Predicting DataLoader 0: 100%|██████████| 1/1 [00:01<00:00,  1.10s/it]\n"
     ]
    }
   ],
   "source": [
    "\n",
    "# Choose your model from Hugging Face Hub\n",
    "\n",
    "# Data must be in the following format:\n",
    "data = [\n",
    "    {\n",
    "        \"src\": \"10 到 15 分钟可以送到吗\",\n",
    "        \"mt\": \"Can I receive my food in 10 to 15 minutes?\",\n",
    "        \"ref\": \"Can it be delivered between 10 to 15 minutes?\"\n",
    "    },\n",
    "    {\n",
    "        \"src\": \"Pode ser entregue dentro de 10 a 15 minutos?\",\n",
    "        \"mt\": \"Can you send it for 10 to 15 minutes?\",\n",
    "        \"ref\": \"Can it be delivered between 10 to 15 minutes?\"\n",
    "    }\n",
    "]\n",
    "# Call predict method:\n",
    "# model_output = model.predict(data, batch_size=8, gpus=1)"
   ]
  },
  {
   "cell_type": "code",
   "execution_count": 2,
   "metadata": {},
   "outputs": [
    {
     "name": "stderr",
     "output_type": "stream",
     "text": [
      "PyTorch version 2.6.0 available.\n"
     ]
    }
   ],
   "source": [
    "import sys\n",
    "import json\n",
    "import argparse\n",
    "\n",
    "parser = argparse.ArgumentParser(\"simple_example\")\n",
    "from helm.benchmark.runner import InstanceGenerations,GenerationSummary\n",
    "from process_gens import get_gen_summary, get_run_folder, get_gen_summary_from_path\n",
    "\n",
    "from PostMetric import calculate_post_metric, get_post_metrics\n",
    "from helm.common.general import ensure_directory_exists, write, asdict_without_nones\n",
    "import os.path"
   ]
  },
  {
   "cell_type": "code",
   "execution_count": 16,
   "metadata": {},
   "outputs": [
    {
     "name": "stdout",
     "output_type": "stream",
     "text": [
      "None\n"
     ]
    },
    {
     "name": "stderr",
     "output_type": "stream",
     "text": [
      "Fetching 5 files: 100%|██████████| 5/5 [00:00<00:00, 19673.10it/s]\n",
      "Lightning automatically upgraded your loaded checkpoint from v1.8.3.post1 to v2.5.0.post0. To apply the upgrade to your files permanently, run `python -m pytorch_lightning.utilities.upgrade_checkpoint ../../.cache/huggingface/hub/models--Unbabel--wmt22-comet-da/snapshots/2760a223ac957f30acfb18c8aa649b01cf1d75f2/checkpoints/model.ckpt`\n",
      "Encoder model frozen.\n",
      "/opt/miniconda3/envs/crfm-helm2/lib/python3.9/site-packages/pytorch_lightning/core/saving.py:195: Found keys that are not in the model state dict but in the checkpoint: ['encoder.model.embeddings.position_ids']\n",
      "GPU available: True (mps), used: True\n",
      "TPU available: False, using: 0 TPU cores\n",
      "HPU available: False, using: 0 HPUs\n",
      "python(69895) MallocStackLogging: can't turn off malloc stack logging because it was not enabled.\n",
      "python(69896) MallocStackLogging: can't turn off malloc stack logging because it was not enabled.\n",
      "Predicting DataLoader 0: 100%|██████████| 2/2 [00:02<00:00,  1.05s/it]\n"
     ]
    },
    {
     "name": "stdout",
     "output_type": "stream",
     "text": [
      "{'comet_score': 0.2958647906780243}\n",
      "{'comet_score': 0.2958647906780243}\n"
     ]
    }
   ],
   "source": [
    "# num_beams=32\n",
    "# model=\"meta_llama_Llama_3.1_8B_Instruct\"\n",
    "# eval_instances=5\n",
    "# task_name=\"wmt_14_language_pair_de_en_\"\n",
    "# run_path=f\"snellius_copies/wmt_test\"\n",
    "# metric_names=\"test\"\n",
    "\n",
    "\n",
    "#first, we want a list of all the examples\n",
    "#then, we want to create a list of data\n",
    "#then, we want to add to the stats_dict \n",
    "\n",
    "# run_path=\"./helm_output/sample_return_2/wmt_14_language_pair_de_en_/distilbert_distilgpt2/1_beams/runs/sample_return_2\"\n",
    "run_path=\"./helm_output/sample_return_16/wmt_14_language_pair_de_en_/distilbert_distilgpt2/1_beams/runs/sample_return_16\"\n",
    "\n",
    "gen_sum_raw_path=f\"{run_path}/generation_summary.json\"\n",
    "gen_sum_metric_path=f\"{run_path}/generation_summary_metrics.json\"\n",
    "input_path = gen_sum_metric_path if os.path.isfile(gen_sum_metric_path) else gen_sum_raw_path\n",
    "generation_summary=get_gen_summary_from_path(input_path)\n",
    "\n",
    "\n",
    "from comet import download_model, load_from_checkpoint\n",
    "\n",
    "def append_comment_metric(generation_summary):\n",
    "    model_path = download_model(\"Unbabel/wmt22-comet-da\")\n",
    "    model = load_from_checkpoint(model_path)\n",
    "    data = []\n",
    "    for instance_generation in generation_summary.instance_generations:\n",
    "        for generated_output in instance_generation.examples:\n",
    "            data.append({\n",
    "                \"ref\" : instance_generation.reference.strip(),\n",
    "                \"src\" : instance_generation.prompt.strip(),\n",
    "                \"mt\" : generated_output.text.strip()\n",
    "            })\n",
    "    model_output = model.predict(data, batch_size=8, gpus=1)\n",
    "\n",
    "    counter=0\n",
    "    for instance_generation in generation_summary.instance_generations:\n",
    "        for generated_output in instance_generation.examples:\n",
    "            comet_score=model_output.scores[counter]\n",
    "            generated_output.stats_dict = {} if generated_output.stats_dict is None else generated_output.stats_dict \n",
    "            generated_output.stats_dict[\"comet_score\"]=comet_score\n",
    "            counter+=1\n",
    "\n",
    "    print(generation_summary.instance_generations[0].examples[0].stats_dict)\n",
    "    return instance_generation\n",
    "\n",
    "\n",
    "append_comment_metric(generation_summary)\n",
    "\n"
   ]
  }
 ],
 "metadata": {
  "kernelspec": {
   "display_name": "crfm-helm2",
   "language": "python",
   "name": "python3"
  },
  "language_info": {
   "codemirror_mode": {
    "name": "ipython",
    "version": 3
   },
   "file_extension": ".py",
   "mimetype": "text/x-python",
   "name": "python",
   "nbconvert_exporter": "python",
   "pygments_lexer": "ipython3",
   "version": "3.9.21"
  }
 },
 "nbformat": 4,
 "nbformat_minor": 2
}
