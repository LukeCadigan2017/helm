{
 "cells": [
  {
   "cell_type": "code",
   "execution_count": 3,
   "metadata": {},
   "outputs": [],
   "source": [
    "# from transformers import AutoTokenizer\n",
    "\n",
    "# checkpoint = \"google-t5/t5-small\"\n",
    "# tokenizer = AutoTokenizer.from_pretrained(checkpoint)\n",
    "\n",
    "\n",
    "\n",
    "import torch\n",
    "from transformers import AutoModelForCausalLM, AutoTokenizer\n",
    "\n",
    "device=\"cuda\" if torch.cuda.is_available() else \"cpu\"\n",
    "\n",
    "model_name=\"distilbert/distilgpt2\"\n",
    "# model_name= \"google-t5/t5-small\"\n",
    "tokenizer = AutoTokenizer.from_pretrained(model_name)\n",
    "encoded_input = tokenizer(\"Hugging Face is an open-source company\", return_tensors=\"pt\").to(device)\n",
    "\n",
    "\n",
    "model = AutoModelForCausalLM.from_pretrained(model_name, torch_dtype=torch.float16).to(device)\n",
    "\n",
    "\n",
    "eos = tokenizer(tokenizer.eos_token, return_tensors=\"pt\", return_token_type_ids=False).input_ids.flatten()[0].item()\n",
    "bos = tokenizer(tokenizer.bos_token, return_tensors=\"pt\", return_token_type_ids=False).input_ids.flatten()[0].item()\n",
    "\n",
    "\n",
    "x=encoded_input.input_ids\n",
    "wrapped_tokenizer=tokenizer\n",
    "\n"
   ]
  },
  {
   "cell_type": "code",
   "execution_count": 7,
   "metadata": {},
   "outputs": [
    {
     "name": "stdout",
     "output_type": "stream",
     "text": [
      "start_gamma is -9.8046875\n",
      "best_y is tensor([[50256]])\n",
      "Gamma is  0\n",
      "gen_outputs  0  :  \n"
     ]
    },
    {
     "data": {
      "text/plain": [
       "0"
      ]
     },
     "execution_count": 7,
     "metadata": {},
     "output_type": "execute_result"
    }
   ],
   "source": [
    "\n",
    "\n",
    "\n",
    "\n",
    "# print(f\"start_gamma is {start_gamma}\")\n",
    "# print(f\"best_y is {best_y}\")\n",
    "# print(f\"Gamma is \",gamma)\n",
    "\n",
    "\n",
    "\n",
    "\n"
   ]
  },
  {
   "cell_type": "code",
   "execution_count": 13,
   "metadata": {},
   "outputs": [
    {
     "name": "stdout",
     "output_type": "stream",
     "text": [
      "torch.Size([1, 9])\n",
      "tensor([[50256]])\n",
      "tensor([[[-31.8906, -30.0625, -31.7188,  ..., -43.2500, -42.9688, -31.8906],\n",
      "         [-62.5938, -63.3750, -66.9375,  ..., -71.0000, -70.6250, -65.1875],\n",
      "         [-61.0938, -61.1562, -64.1875,  ..., -69.8125, -67.8750, -61.7500],\n",
      "         ...,\n",
      "         [-63.8750, -63.3438, -66.3125,  ..., -70.1875, -69.0000, -64.7500],\n",
      "         [-62.9062, -65.1250, -69.5000,  ..., -74.6250, -73.3125, -64.1250],\n",
      "         [-51.7500, -44.7500, -47.1875,  ..., -65.4375, -65.5000, -53.1250]]],\n",
      "       dtype=torch.float16)\n"
     ]
    }
   ],
   "source": [
    "\n",
    "\n",
    "\n",
    "with torch.no_grad():\n",
    "    output = model(full_sentence)\n",
    "    sequences = encoded_input[\"input_ids\"]\n",
    "    logits = output.logits\n",
    "\n",
    "\n",
    "for completion_id in range(num_generated):\n",
    "    generated_tokens_logprobs = []\n",
    "    for i in range(len(sequences[completion_id]) - len(encoded_input.input_ids[0])):\n",
    "        logprobs = torch.nn.functional.log_softmax(logits[i][completion_id], dim=0)\n",
    "        # Get log probability of chosen token.\n",
    "        j = i + len(encoded_input.input_ids[0])\n",
    "        generated_tokens_logprobs.append(logprobs[sequences[completion_id][j]].item())\n",
    "    all_generated_tokens_logprobs.append(generated_tokens_logprobs)\n",
    "\n",
    "return sequences, logits"
   ]
  }
 ],
 "metadata": {
  "kernelspec": {
   "display_name": "crfm-helm2",
   "language": "python",
   "name": "python3"
  },
  "language_info": {
   "codemirror_mode": {
    "name": "ipython",
    "version": 3
   },
   "file_extension": ".py",
   "mimetype": "text/x-python",
   "name": "python",
   "nbconvert_exporter": "python",
   "pygments_lexer": "ipython3",
   "version": "3.9.18"
  }
 },
 "nbformat": 4,
 "nbformat_minor": 2
}
