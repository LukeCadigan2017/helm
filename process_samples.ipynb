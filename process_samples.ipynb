{
 "cells": [
  {
   "cell_type": "code",
   "execution_count": 1,
   "metadata": {},
   "outputs": [
    {
     "name": "stderr",
     "output_type": "stream",
     "text": [
      "/opt/miniconda3/envs/crfm-helm2/lib/python3.9/site-packages/tqdm/auto.py:21: TqdmWarning: IProgress not found. Please update jupyter and ipywidgets. See https://ipywidgets.readthedocs.io/en/stable/user_install.html\n",
      "  from .autonotebook import tqdm as notebook_tqdm\n",
      "PyTorch version 2.6.0 available.\n"
     ]
    },
    {
     "name": "stdout",
     "output_type": "stream",
     "text": [
      "Init: process_gens_mode wmt_top_k\n",
      "calculate_gen_summary_dict\n",
      "snellius_copies/helm_output/sample_100_eval_100_top_k_30/wmt_14_language_pair_de_en_/meta_llama_Llama_3.1_8B_Instruct/1_beams/runs/sample_100_eval_100_top_k_30\n",
      "get_metrics_dict\n"
     ]
    },
    {
     "name": "stderr",
     "output_type": "stream",
     "text": [
      "/opt/miniconda3/envs/crfm-helm2/lib/python3.9/site-packages/nltk/translate/bleu_score.py:577: UserWarning: \n",
      "The hypothesis contains 0 counts of 2-gram overlaps.\n",
      "Therefore the BLEU score evaluates to 0, independently of\n",
      "how many N-gram overlaps of lower order it contains.\n",
      "Consider using lower n-gram order or use SmoothingFunction()\n",
      "  warnings.warn(_msg)\n",
      "/opt/miniconda3/envs/crfm-helm2/lib/python3.9/site-packages/nltk/translate/bleu_score.py:577: UserWarning: \n",
      "The hypothesis contains 0 counts of 3-gram overlaps.\n",
      "Therefore the BLEU score evaluates to 0, independently of\n",
      "how many N-gram overlaps of lower order it contains.\n",
      "Consider using lower n-gram order or use SmoothingFunction()\n",
      "  warnings.warn(_msg)\n",
      "/opt/miniconda3/envs/crfm-helm2/lib/python3.9/site-packages/nltk/translate/bleu_score.py:577: UserWarning: \n",
      "The hypothesis contains 0 counts of 4-gram overlaps.\n",
      "Therefore the BLEU score evaluates to 0, independently of\n",
      "how many N-gram overlaps of lower order it contains.\n",
      "Consider using lower n-gram order or use SmoothingFunction()\n",
      "  warnings.warn(_msg)\n"
     ]
    },
    {
     "name": "stdout",
     "output_type": "stream",
     "text": [
      "Index(['example_comet', 'beam_num', 'task_name', 'model', 'example_idx',\n",
      "       'suite', 'instanceID', 'text', 'completion_length', 'output_logprob',\n",
      "       'isCompletion', 'BLEU_1', 'BLEU_4'],\n",
      "      dtype='object')\n",
      "Num examples: 10000\n",
      "Num completions: 100\n"
     ]
    }
   ],
   "source": [
    "\n",
    "import process_gens\n",
    "import pandas as pd\n",
    "from helm.benchmark.runner import InstanceGenerations,GenerationSummary\n",
    "from typing import Any, List\n",
    "import json\n",
    "from helm.common.request import (GeneratedOutput, Token)\n",
    "\n",
    "import PostMetric\n",
    "import pandas as pd\n",
    "\n",
    "from helm.benchmark.metrics.statistic import Stat\n",
    "from typing import Dict, Optional\n",
    "\n",
    "from helm.benchmark.augmentations.perturbation_description import (\n",
    "    PerturbationDescription)\n",
    "from dataclasses import dataclass\n",
    "from process_gens import *\n",
    "from process_gen_utils import *\n",
    "\n",
    "\n",
    "\n",
    "processGens=ProcessGens()\n",
    "\n",
    "#gsm modes\n",
    "# process_gen_mode=\"llama_gsm_sample\"\n",
    "# compare_metric='final_num_exact_match'\n",
    "\n",
    "\n",
    "#wmt modes\n",
    "\n",
    "# process_gen_mode=\"wmt_beam8\"\n",
    "# process_gen_mode=\"wmt_top_k\"\n",
    "# compare_metric=\"example_comet\"\n",
    "\n",
    "\n",
    "# process_gen_mode=\"wmt_single\"\n",
    "process_gen_mode=\"wmt_top_k\"\n",
    "compare_metric=\"example_comet\"\n",
    "\n",
    "# process_gen_mode=\"wmt_beam128\"\n",
    "# compare_metric=\"BLEU_4\"\n",
    "\n",
    "#instruct modes\n",
    "# process_gen_mode=\"instruct8\"\n",
    "# compare_metric=\"example_themis\"\n",
    "\n",
    "do_norm_analysis=True\n",
    "processGens.init_with_mode(process_gen_mode,print_files=True)\n",
    "\n",
    "\n",
    "root_folder, num_beams_list, models, custom_metrics, task_names, suite_name, instance_metrics = processGens.get_params()\n",
    "\n",
    "examples_df, completions_df=get_dfs(processGens)\n",
    "\n",
    "\n",
    "\n"
   ]
  },
  {
   "cell_type": "code",
   "execution_count": 2,
   "metadata": {},
   "outputs": [
    {
     "name": "stdout",
     "output_type": "stream",
     "text": [
      "Index(['example_comet', 'beam_num', 'task_name', 'model', 'example_idx',\n",
      "       'suite', 'instanceID', 'text', 'completion_length', 'output_logprob',\n",
      "       'isCompletion', 'BLEU_1', 'BLEU_4'],\n",
      "      dtype='object')\n"
     ]
    }
   ],
   "source": [
    "print(examples_df.columns)\n",
    "do_norm_analysis=False\n"
   ]
  },
  {
   "cell_type": "code",
   "execution_count": 3,
   "metadata": {},
   "outputs": [
    {
     "name": "stdout",
     "output_type": "stream",
     "text": [
      "model_name meta_llama_Llama_3.1_8B_Instruct filtered_df len 10000\n",
      "\t root_folder: snellius_copies/helm_output \n",
      " \t num_beams_list [1] \n",
      " \t models: ['meta_llama_Llama_3.1_8B_Instruct'] \n",
      " \t custom_metrics['BLEU_1', 'BLEU_4']\n",
      " \t task_names ['wmt_14_language_pair_de_en_'] \n",
      " \t suite_name sample_100_eval_100_top_k_30 \n",
      " \t instance_metrics ['comet']\n",
      "   example_comet  beam_num                    task_name  \\\n",
      "0       0.840449         1  wmt_14_language_pair_de_en_   \n",
      "1       0.873533         1  wmt_14_language_pair_de_en_   \n",
      "\n",
      "                              model  example_idx  \\\n",
      "0  meta_llama_Llama_3.1_8B_Instruct            0   \n",
      "1  meta_llama_Llama_3.1_8B_Instruct            1   \n",
      "\n",
      "                          suite  instanceID  \\\n",
      "0  sample_100_eval_100_top_k_30           0   \n",
      "1  sample_100_eval_100_top_k_30           0   \n",
      "\n",
      "                                                text  completion_length  \\\n",
      "0  He advised the parents of a boy whose penis ha...                180   \n",
      "1  He advised the parents of a boy, whose penis h...                186   \n",
      "\n",
      "   output_logprob isCompletion    BLEU_1    BLEU_4  \n",
      "0      -10.448758         True  0.657895  0.285714  \n",
      "1      -11.330164         None  0.710526  0.200000  \n",
      "num examples 10000\n",
      "num_completions 100\n",
      "compare_metric mean:  example_comet    0.778107\n",
      "dtype: float64\n"
     ]
    }
   ],
   "source": [
    "\n",
    "if(do_norm_analysis):\n",
    "    for col in [compare_metric, 'output_logprob']:\n",
    "        examples_df[col + '_norm'] = examples_df.groupby('instanceID')[col].transform(\n",
    "            lambda x: (x - x.mean()) / x.std()\n",
    "        )\n",
    "\n",
    "dfs_by_model={}\n",
    "\n",
    "\n",
    "for model_name in examples_df['model'].unique():\n",
    "    filtered_df = examples_df[examples_df[\"model\"]==model_name]\n",
    "    dfs_by_model[model_name]=filtered_df\n",
    "    print(f\"model_name {model_name} filtered_df len\",len(filtered_df))\n",
    "\n",
    "all_dfs_by_model=dfs_by_model\n",
    "if(len(models)>1):\n",
    "    all_dfs_by_model[\"all_models\"]=examples_df\n",
    "\n",
    "\n",
    "\n",
    "print(f\"\\t root_folder: {root_folder} \\n \\t num_beams_list {num_beams_list} \\n \\t models: {models} \\n \\t custom_metrics{[metric.name() for metric in custom_metrics]}\"+ \n",
    "    f\"\\n \\t task_names {task_names} \\n \\t suite_name {suite_name} \\n \\t instance_metrics {instance_metrics}\")\n",
    "instanceGeneration=get_first(processGens.first_run_instances)\n",
    "print(examples_df.head(2))\n",
    "print(\"num examples\" ,len(examples_df))\n",
    "print(\"num_completions\", len(completions_df))\n",
    "print(f\"compare_metric mean: \",examples_df[[compare_metric]].mean())\n",
    "#current belief: for each run_folder combo, there will be 100 instances and 100 examples per instance"
   ]
  },
  {
   "cell_type": "code",
   "execution_count": 4,
   "metadata": {},
   "outputs": [
    {
     "data": {
      "image/png": "[encoded data removed]",
      "text/plain": [
       "<Figure size 640x480 with 1 Axes>"
      ]
     },
     "metadata": {},
     "output_type": "display_data"
    }
   ],
   "source": [
    "def plot_grouped(df, xlabel, ylabel, groupby='example_idx', title=None, trend_line=\"None\",ax=None, nbins=20):\n",
    "    if(ax is None):\n",
    "        _, ax = plt.subplots()\n",
    "    warnings.simplefilter(action='ignore', category=FutureWarning)\n",
    "    if(groupby==\"bins\"):\n",
    "        df[\"bins\"]=pd.qcut(df[xlabel],nbins)\n",
    "    \n",
    "    \n",
    "    grouped = df.groupby(groupby)[[xlabel, ylabel]].agg(['mean', 'count', 'std'])\n",
    "    x = grouped[(xlabel, 'mean')]\n",
    "    y = grouped[(ylabel, 'mean')]\n",
    "    yerr = grouped[(ylabel, 'std')]\n",
    "\n",
    "    yerr=[]\n",
    "    for i in grouped.index:\n",
    "        # print(grouped.loc[i][ylabel])\n",
    "        _, c, s = grouped.loc[i][ylabel]\n",
    "        yerr.append(1.96*s/math.sqrt(c))\n",
    "\n",
    "    # Plot with error bars (standard deviation)\n",
    "    ax.errorbar(x, y, yerr=yerr, fmt='o', ecolor='gray', capsize=3, label='Data with std dev')\n",
    "\n",
    "    # plt.scatter(x,y)\n",
    "    ax.set_xlabel(xlabel)\n",
    "    ax.set_ylabel(ylabel)\n",
    "\n",
    "    if(title):\n",
    "        ax.set_title(title)\n",
    "\n",
    "    if(trend_line==\"None\"):\n",
    "        pass\n",
    "    elif(trend_line==\"linear\"):\n",
    "        try:\n",
    "            ax.plot(np.unique(x), np.poly1d(np.polyfit(x, y, 1))(np.unique(x)))\n",
    "        except:\n",
    "            pass\n",
    "    else: \n",
    "        raise Exception(\"Plot_keys errors: did not recognize trend_line type\")\n",
    "    \n",
    "\n",
    "\n",
    "\n",
    "\n",
    "\n",
    "plots_wide=1\n",
    "num_models=len(dfs_by_model.keys())\n",
    "plots_tall=math.ceil(num_models/plots_wide)\n",
    "\n",
    "suptitle=\"\"\n",
    "axs=None\n",
    "fig=None\n",
    "\n",
    "for idx, (model_name, filtered_df) in enumerate(dfs_by_model.items()):\n",
    "    \n",
    "    if axs is None:\n",
    "        ax=None\n",
    "    else:\n",
    "        title=model_name\n",
    "        if(num_models>1):\n",
    "            axs_x=idx % plots_wide\n",
    "            axs_y= math.floor(idx / plots_wide)\n",
    "            ax=axs[axs_x, axs_y]\n",
    "        else:\n",
    "            ax=axs\n",
    "\n",
    "    \n",
    "    def calculate_title():\n",
    "        return f\"{model_name}: {suptitle}\" if ax is None else model_name\n",
    "    \n",
    "    # print(\"len filtered_df \",len(filtered_df))\n",
    "    # plot by rank within sentence\n",
    "    suptitle=\"grouped by rank within sentence\"\n",
    "    plot_grouped(df=filtered_df, xlabel=\"output_logprob\", groupby='example_idx', ylabel=compare_metric, title=calculate_title(), ax=ax)\n",
    "    \n",
    "\n",
    "    # plot \n",
    "    \n",
    "    # suptitle=\"Raw Plotting Probability vs Quality\"\n",
    "    # plot_keys(df=examples_df, xlabel='output_logprob', ylabel=compare_metric, title=calculate_title(), ax=ax)\n",
    "\n",
    "\n",
    "    # # just plot metric / probability (normalized) \n",
    "    # suptitle=\"Normalized Probability vs Quality\"\n",
    "    # plot_keys(df=filtered_df, xlabel='output_logprob_norm', ylabel=compare_metric+'_norm', title=calculate_title(), ax=ax)\n",
    "\n",
    "    # # plot: group into equally-sized bins (ignores examples example_id)\n",
    "    # suptitle=\"Grouped with equal bins (by logprob)\"\n",
    "    # plot_grouped(df=filtered_df, xlabel=\"output_logprob\", groupby=\"bins\", ylabel=compare_metric, title=calculate_title(), ax=ax, nbins=10)\n",
    "\n",
    "    # suptitle=\"Grouped with equal bins (by logprob)\"\n",
    "    # plot_grouped(df=filtered_df, xlabel='output_logprob_norm',  groupby=\"bins\", ylabel=compare_metric+'_norm', title=calculate_title(), ax=ax, nbins=10)\n",
    "\n",
    "    # # suptitle=\"Grouped by reference sentence\"\n",
    "    # instance_df=filtered_df.groupby(\"instanceID\")[[\"output_logprob\", compare_metric]].mean()\n",
    "    # suptitle=\"Grouped by reference sentence\"\n",
    "    # plot_keys(df=instance_df, xlabel='output_logprob', ylabel=compare_metric, title=calculate_title(), ax=ax)\n",
    "    \n",
    "    # suptitle=\"Grouped by reference sentence\"\n",
    "    # plot_grouped(df=instance_df, xlabel='output_logprob',  groupby=\"bins\", ylabel=compare_metric, title=calculate_title(), ax=ax, nbins=10)\n",
    "    \n",
    "if fig is not None:\n",
    "    fig.suptitle(title)\n",
    "    fig.tight_layout()\n",
    "    "
   ]
  },
  {
   "cell_type": "code",
   "execution_count": 5,
   "metadata": {},
   "outputs": [
    {
     "name": "stdout",
     "output_type": "stream",
     "text": [
      "100\n"
     ]
    }
   ],
   "source": [
    "print(len(completions_df))"
   ]
  }
 ],
 "metadata": {
  "kernelspec": {
   "display_name": "crfm-helm2",
   "language": "python",
   "name": "python3"
  },
  "language_info": {
   "codemirror_mode": {
    "name": "ipython",
    "version": 3
   },
   "file_extension": ".py",
   "mimetype": "text/x-python",
   "name": "python",
   "nbconvert_exporter": "python",
   "pygments_lexer": "ipython3",
   "version": "3.9.18"
  }
 },
 "nbformat": 4,
 "nbformat_minor": 2
}
