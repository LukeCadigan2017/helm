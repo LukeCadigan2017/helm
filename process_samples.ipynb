{
 "cells": [
  {
   "cell_type": "code",
   "execution_count": 1,
   "metadata": {},
   "outputs": [
    {
     "name": "stderr",
     "output_type": "stream",
     "text": [
      "/opt/miniconda3/envs/crfm-helm2/lib/python3.9/site-packages/tqdm/auto.py:21: TqdmWarning: IProgress not found. Please update jupyter and ipywidgets. See https://ipywidgets.readthedocs.io/en/stable/user_install.html\n",
      "  from .autonotebook import tqdm as notebook_tqdm\n",
      "PyTorch version 2.6.0 available.\n"
     ]
    },
    {
     "name": "stdout",
     "output_type": "stream",
     "text": [
      "Init: process_gens_mode llama_gsm_sample\n",
      "calculate_gen_summary_dict\n",
      "path is snellius_copies/helm_output/sample_100_eval_100/gsm_/meta_llama_Llama_3.1_8B_Instruct/1_beams/runs/sample_100_eval_100/generation_summary.json\n",
      "examples len is 1\n",
      "examples len is 1\n",
      "examples len is 1\n",
      "examples len is 1\n",
      "examples len is 1\n",
      "examples len is 1\n",
      "examples len is 1\n",
      "examples len is 1\n",
      "examples len is 1\n",
      "examples len is 1\n",
      "examples len is 1\n",
      "examples len is 1\n",
      "examples len is 1\n",
      "examples len is 1\n",
      "examples len is 1\n",
      "examples len is 1\n",
      "examples len is 1\n",
      "examples len is 1\n",
      "examples len is 1\n",
      "examples len is 1\n",
      "examples len is 1\n",
      "examples len is 1\n",
      "examples len is 1\n",
      "examples len is 1\n",
      "examples len is 1\n",
      "examples len is 1\n",
      "examples len is 1\n",
      "examples len is 1\n",
      "examples len is 1\n",
      "examples len is 1\n",
      "examples len is 1\n",
      "examples len is 1\n",
      "examples len is 1\n",
      "examples len is 1\n",
      "examples len is 1\n",
      "examples len is 1\n",
      "examples len is 1\n",
      "examples len is 1\n",
      "examples len is 1\n",
      "examples len is 1\n",
      "examples len is 1\n",
      "examples len is 1\n",
      "examples len is 1\n",
      "examples len is 1\n",
      "examples len is 1\n",
      "examples len is 1\n",
      "examples len is 1\n",
      "examples len is 1\n",
      "examples len is 1\n",
      "examples len is 1\n",
      "examples len is 1\n",
      "examples len is 1\n",
      "examples len is 1\n",
      "examples len is 1\n",
      "examples len is 1\n",
      "examples len is 1\n",
      "examples len is 1\n",
      "examples len is 1\n",
      "examples len is 1\n",
      "examples len is 1\n",
      "examples len is 1\n",
      "examples len is 1\n",
      "examples len is 1\n",
      "examples len is 1\n",
      "examples len is 1\n",
      "examples len is 1\n",
      "examples len is 1\n",
      "examples len is 1\n",
      "examples len is 1\n",
      "examples len is 1\n",
      "examples len is 1\n",
      "examples len is 1\n",
      "examples len is 1\n",
      "examples len is 1\n",
      "examples len is 1\n",
      "examples len is 1\n",
      "examples len is 1\n",
      "examples len is 1\n",
      "examples len is 1\n",
      "examples len is 1\n",
      "examples len is 1\n",
      "examples len is 1\n",
      "examples len is 1\n",
      "examples len is 1\n",
      "examples len is 1\n",
      "examples len is 1\n",
      "examples len is 1\n",
      "examples len is 1\n",
      "examples len is 1\n",
      "examples len is 1\n",
      "examples len is 1\n",
      "examples len is 1\n",
      "examples len is 1\n",
      "examples len is 1\n",
      "examples len is 1\n",
      "examples len is 1\n",
      "examples len is 1\n",
      "examples len is 1\n",
      "examples len is 1\n",
      "examples len is 1\n",
      "get_metrics_dict\n",
      "\t root_folder: snellius_copies/helm_output \n",
      " \t num_beams_list [1] \n",
      " \t models: ['meta_llama_Llama_3.1_8B_Instruct'] \n",
      " \t custom_metrics['final_num_exact_match']\n",
      " \t task_names ['gsm_'] \n",
      " \t suite_name sample_100_eval_100 \n",
      " \t instance_metrics []\n"
     ]
    },
    {
     "name": "stderr",
     "output_type": "stream",
     "text": [
      "/opt/miniconda3/envs/crfm-helm2/lib/python3.9/site-packages/nltk/translate/bleu_score.py:577: UserWarning: \n",
      "The hypothesis contains 0 counts of 4-gram overlaps.\n",
      "Therefore the BLEU score evaluates to 0, independently of\n",
      "how many N-gram overlaps of lower order it contains.\n",
      "Consider using lower n-gram order or use SmoothingFunction()\n",
      "  warnings.warn(_msg)\n",
      "/opt/miniconda3/envs/crfm-helm2/lib/python3.9/site-packages/nltk/translate/bleu_score.py:577: UserWarning: \n",
      "The hypothesis contains 0 counts of 3-gram overlaps.\n",
      "Therefore the BLEU score evaluates to 0, independently of\n",
      "how many N-gram overlaps of lower order it contains.\n",
      "Consider using lower n-gram order or use SmoothingFunction()\n",
      "  warnings.warn(_msg)\n",
      "/opt/miniconda3/envs/crfm-helm2/lib/python3.9/site-packages/nltk/translate/bleu_score.py:577: UserWarning: \n",
      "The hypothesis contains 0 counts of 2-gram overlaps.\n",
      "Therefore the BLEU score evaluates to 0, independently of\n",
      "how many N-gram overlaps of lower order it contains.\n",
      "Consider using lower n-gram order or use SmoothingFunction()\n",
      "  warnings.warn(_msg)\n"
     ]
    }
   ],
   "source": [
    "\n",
    "import process_gens\n",
    "import pandas as pd\n",
    "from helm.benchmark.runner import InstanceGenerations,GenerationSummary\n",
    "from typing import Any, List\n",
    "import json\n",
    "from helm.common.request import (GeneratedOutput, Token)\n",
    "\n",
    "import PostMetric\n",
    "import pandas as pd\n",
    "\n",
    "from helm.benchmark.metrics.statistic import Stat\n",
    "from typing import Dict, Optional\n",
    "\n",
    "from helm.benchmark.augmentations.perturbation_description import (\n",
    "    PerturbationDescription)\n",
    "from dataclasses import dataclass\n",
    "from process_gens import *\n",
    "\n",
    "\n",
    "\n",
    "processGens=ProcessGens()\n",
    "# compare_metric=\"example_comet\"\n",
    "# process_gen_mode=\"full_sample\"\n",
    "\n",
    "\n",
    "process_gen_mode=\"llama_gsm_sample\"\n",
    "compare_metric='final_num_exact_match'\n",
    "\n",
    "\n",
    "processGens.init_with_mode(process_gen_mode)\n",
    "\n",
    "\n",
    "root_folder, num_beams_list, models, custom_metrics, task_names, suite_name, instance_metrics = processGens.get_params()\n",
    "\n",
    "print(f\"\\t root_folder: {root_folder} \\n \\t num_beams_list {num_beams_list} \\n \\t models: {models} \\n \\t custom_metrics{[metric.name() for metric in custom_metrics]}\"+ \n",
    "    f\"\\n \\t task_names {task_names} \\n \\t suite_name {suite_name} \\n \\t instance_metrics {instance_metrics}\")\n"
   ]
  },
  {
   "cell_type": "code",
   "execution_count": 2,
   "metadata": {},
   "outputs": [
    {
     "name": "stdout",
     "output_type": "stream",
     "text": [
      "1\n"
     ]
    }
   ],
   "source": [
    "instanceGeneration=get_first(processGens.first_run_instances)\n",
    "print(len(instanceGeneration.examples))\n",
    "\n",
    "#current belief: for each run_folder combo, there will be 100 instances and 100 examples per instance"
   ]
  },
  {
   "cell_type": "code",
   "execution_count": 3,
   "metadata": {},
   "outputs": [
    {
     "name": "stdout",
     "output_type": "stream",
     "text": [
      "sum(num_beams_list) 1\n",
      "Index(['beam_num', 'task_name', 'model', 'example_idx', 'text',\n",
      "       'completion_length', 'output_logprob', 'instanceID', 'isCompletion',\n",
      "       'final_num_exact_match'],\n",
      "      dtype='object')\n",
      "Num examples: 100\n",
      "Num completions: 100\n",
      "   beam_num  task_name  model  example_idx  \\\n",
      "0         1          0      0            0   \n",
      "1         1          0      0            0   \n",
      "\n",
      "                                                text  completion_length  \\\n",
      "0  First, we need to figure out how long it took ...                424   \n",
      "1  Allan has 40 cannolis, and there are twice as ...                634   \n",
      "\n",
      "   output_logprob instanceID  isCompletion  final_num_exact_match  \n",
      "0      -41.756677     id8131          True               0.458067  \n",
      "1      -50.948469     id7879          True               0.472919  \n"
     ]
    }
   ],
   "source": [
    "\n",
    "from process_gen_utils import *\n",
    "print(f\"sum(num_beams_list) {sum(num_beams_list)}\")\n",
    "examples_df, completions_df=get_dfs(processGens, num_beams_list)\n",
    "\n",
    "# for df in examples_df, completions_df:\n",
    "\n",
    "print(examples_df.head(2))\n",
    "\n"
   ]
  },
  {
   "cell_type": "code",
   "execution_count": 4,
   "metadata": {},
   "outputs": [
    {
     "name": "stdout",
     "output_type": "stream",
     "text": [
      "final_num_exact_match    0.389671\n",
      "dtype: float64\n"
     ]
    }
   ],
   "source": [
    "print(examples_df[[compare_metric]].mean())"
   ]
  },
  {
   "cell_type": "code",
   "execution_count": 5,
   "metadata": {},
   "outputs": [
    {
     "data": {
      "image/png": "[encoded data removed]",
      "text/plain": [
       "<Figure size 640x480 with 1 Axes>"
      ]
     },
     "metadata": {},
     "output_type": "display_data"
    }
   ],
   "source": [
    "# examples_df\n",
    "plot_keys(df=examples_df, xlabel='output_logprob', ylabel=compare_metric)"
   ]
  },
  {
   "cell_type": "code",
   "execution_count": 6,
   "metadata": {},
   "outputs": [],
   "source": [
    "# for col in [compare_metric, 'output_logprob']:\n",
    "#     examples_df[col + '_norm'] = examples_df.groupby('instanceID')[col].transform(\n",
    "#         lambda x: (x - x.mean()) / x.std()\n",
    "# #     )\n",
    "# print(examples_df)\n",
    "# plot_keys(df=examples_df, xlabel='output_logprob_norm', ylabel=compare_metric+'_norm')"
   ]
  },
  {
   "cell_type": "code",
   "execution_count": 7,
   "metadata": {},
   "outputs": [
    {
     "name": "stdout",
     "output_type": "stream",
     "text": [
      "  instanceID  example_idx  final_num_exact_match  output_logprob\n",
      "0     id8131            0               0.458067      -41.756677\n",
      "100\n"
     ]
    }
   ],
   "source": [
    "simple_df=examples_df[[\"instanceID\", \"example_idx\", compare_metric, \"output_logprob\"]]\n",
    "filtered_df=simple_df[simple_df[\"instanceID\"]==\"id8131\"]\n",
    "print(filtered_df.head(10))\n",
    "print(len(examples_df))"
   ]
  },
  {
   "cell_type": "code",
   "execution_count": 8,
   "metadata": {},
   "outputs": [
    {
     "name": "stderr",
     "output_type": "stream",
     "text": [
      "/Users/lukecadigan/thesis/helm/process_gen_utils.py:167: RankWarning: Polyfit may be poorly conditioned\n",
      "  plt.plot(np.unique(x), np.poly1d(np.polyfit(x, y, 1))(np.unique(x)))\n"
     ]
    },
    {
     "data": {
      "image/png": "[encoded data removed]",
      "text/plain": [
       "<Figure size 640x480 with 1 Axes>"
      ]
     },
     "metadata": {},
     "output_type": "display_data"
    }
   ],
   "source": [
    "\n",
    "\n",
    "grouped_df = examples_df[[\"example_idx\", compare_metric, \"output_logprob\"]].groupby('example_idx').mean()\n",
    "\n",
    "grouped_df.head(2)\n",
    "\n",
    "plot_keys(grouped_df, \"output_logprob\", compare_metric)"
   ]
  }
 ],
 "metadata": {
  "kernelspec": {
   "display_name": "crfm-helm2",
   "language": "python",
   "name": "python3"
  },
  "language_info": {
   "codemirror_mode": {
    "name": "ipython",
    "version": 3
   },
   "file_extension": ".py",
   "mimetype": "text/x-python",
   "name": "python",
   "nbconvert_exporter": "python",
   "pygments_lexer": "ipython3",
   "version": "3.9.21"
  }
 },
 "nbformat": 4,
 "nbformat_minor": 2
}
